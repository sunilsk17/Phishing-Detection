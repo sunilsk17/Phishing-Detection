{
  "metadata": {
    "kaggle": {
      "accelerator": "none",
      "dataSources": [
        {
          "sourceId": 8282289,
          "sourceType": "datasetVersion",
          "datasetId": 4918846
        },
        {
          "sourceId": 8314101,
          "sourceType": "datasetVersion",
          "datasetId": 4938883
        },
        {
          "sourceId": 42553,
          "sourceType": "modelInstanceVersion",
          "modelInstanceId": 35758,
          "modelId": 50241
        }
      ],
      "dockerImageVersionId": 30698,
      "isInternetEnabled": false,
      "language": "python",
      "sourceType": "notebook",
      "isGpuEnabled": false
    },
    "kernelspec": {
      "name": "python3",
      "display_name": "Python 3",
      "language": "python"
    },
    "language_info": {
      "name": "python",
      "version": "3.10.13",
      "mimetype": "text/x-python",
      "codemirror_mode": {
        "name": "ipython",
        "version": 3
      },
      "pygments_lexer": "ipython3",
      "nbconvert_exporter": "python",
      "file_extension": ".py"
    },
    "colab": {
      "provenance": []
    }
  },
  "nbformat_minor": 0,
  "nbformat": 4,
  "cells": [
    {
      "source": [
        "\n",
        "# IMPORTANT: RUN THIS CELL IN ORDER TO IMPORT YOUR KAGGLE DATA SOURCES\n",
        "# TO THE CORRECT LOCATION (/kaggle/input) IN YOUR NOTEBOOK,\n",
        "# THEN FEEL FREE TO DELETE THIS CELL.\n",
        "# NOTE: THIS NOTEBOOK ENVIRONMENT DIFFERS FROM KAGGLE'S PYTHON\n",
        "# ENVIRONMENT SO THERE MAY BE MISSING LIBRARIES USED BY YOUR\n",
        "# NOTEBOOK.\n",
        "\n",
        "import os\n",
        "import sys\n",
        "from tempfile import NamedTemporaryFile\n",
        "from urllib.request import urlopen\n",
        "from urllib.parse import unquote, urlparse\n",
        "from urllib.error import HTTPError\n",
        "from zipfile import ZipFile\n",
        "import tarfile\n",
        "import shutil\n",
        "\n",
        "CHUNK_SIZE = 40960\n",
        "DATA_SOURCE_MAPPING = 'phishing:https%3A%2F%2Fstorage.googleapis.com%2Fkaggle-data-sets%2F4918846%2F8282289%2Fbundle%2Farchive.zip%3FX-Goog-Algorithm%3DGOOG4-RSA-SHA256%26X-Goog-Credential%3Dgcp-kaggle-com%2540kaggle-161607.iam.gserviceaccount.com%252F20240722%252Fauto%252Fstorage%252Fgoog4_request%26X-Goog-Date%3D20240722T093403Z%26X-Goog-Expires%3D259200%26X-Goog-SignedHeaders%3Dhost%26X-Goog-Signature%3D2c581100e01b2e7a72020f8a9aa60c8e6968d4f0e6e3e89508bfddf36ce686d21fd37a01ab8510759266714e45634d30809e943419ad77477d15217dcd00706b8b0fb693c0be3c3b047ab0a104793023434e436ffed2d274f451cc69b6ea1721012012d4611cd92831276b2d14074a15348863fc0e8e049eb9282b95c661a1a347d975dcbe640b61ba8e522ec4871f8d0dcd1f98004b571defe223ba195c60638fd8f109946513c40704c84aea2cefd67817718aa0869c27c0f6356f5d5df5856541fa5a51c5172ae8f5f128c58766fbc5d4c2d04041ac56489105f3b1d55cf6a76a3676955563497a4249e8f45bae2fa20f3de14ec6b4c236c0245573900b0d,phishing-data:https%3A%2F%2Fstorage.googleapis.com%2Fkaggle-data-sets%2F4938883%2F8314101%2Fbundle%2Farchive.zip%3FX-Goog-Algorithm%3DGOOG4-RSA-SHA256%26X-Goog-Credential%3Dgcp-kaggle-com%2540kaggle-161607.iam.gserviceaccount.com%252F20240722%252Fauto%252Fstorage%252Fgoog4_request%26X-Goog-Date%3D20240722T093403Z%26X-Goog-Expires%3D259200%26X-Goog-SignedHeaders%3Dhost%26X-Goog-Signature%3D4a2351c3d0831bafd5e45bd720588970c4c4cd0b1b3c930762c1f9ec5c45fac7613d011d3830e5074e2f4bc4b89e875733187e961eeafc2e8a280b10f5e95ae07ae12f317a1befa206d6654f31a4a8b482e72f34ed06763e5adaca16a4f13dd888430a9b2b46ea2c4129e873084155422ea8a1761e7d06b10a8b62b84f937e29315d8e9ee1fd0afc5bf3c58c49dacc1e4a075d63c6c34b34b9f5a224c698ecfad15dfcc074a401db6a06ca8fdc26b51cf3cde45bd46917af6dd35ec3ad8e796ed329a077abbed44119c8f488333a2b950ab685a32d215f4783294812d69c0992a7398d1b03008901a481323649db84de3dc5b18de11509056f27055c86166596,model/pytorch/model2/1:https%3A%2F%2Fstorage.googleapis.com%2Fkaggle-models-data%2F35758%2F42553%2Fbundle%2Farchive.tar.gz%3FX-Goog-Algorithm%3DGOOG4-RSA-SHA256%26X-Goog-Credential%3Dgcp-kaggle-com%2540kaggle-161607.iam.gserviceaccount.com%252F20240722%252Fauto%252Fstorage%252Fgoog4_request%26X-Goog-Date%3D20240722T093403Z%26X-Goog-Expires%3D259200%26X-Goog-SignedHeaders%3Dhost%26X-Goog-Signature%3D2fb6284952e26fefd42fcf47e414a3c9125644fe7764b40b93198f185f98cb94df93353ee208e3a723f5f05ff427f5ff9c3ef7f21c8e7b01fe12843516a07de84c3dbd191b4de0d7a81ff50737e0b4b9534eba75532eabf517411a461e0df38c996a7ba8d86bd84d45b1f970cc0f75e231de64f9067db06a49adb5a8bc8740eb6bc5033f847a5e9e182ebca7c849763794d1765f435bb924371fa1329232948234752b931fd3c09168abf6eaa4c1b1d9e15b30d9793e1839cfef82a9c2b5b6d8986bbdb3030b3efdb348511e0ab2eb267e803928838818d8432462df3add68765de60f4068a45055db6c7dba8e1501ffd071888d2cb0dbfc6b3441622f7f0881'\n",
        "\n",
        "KAGGLE_INPUT_PATH='/kaggle/input'\n",
        "KAGGLE_WORKING_PATH='/kaggle/working'\n",
        "KAGGLE_SYMLINK='kaggle'\n",
        "\n",
        "!umount /kaggle/input/ 2> /dev/null\n",
        "shutil.rmtree('/kaggle/input', ignore_errors=True)\n",
        "os.makedirs(KAGGLE_INPUT_PATH, 0o777, exist_ok=True)\n",
        "os.makedirs(KAGGLE_WORKING_PATH, 0o777, exist_ok=True)\n",
        "\n",
        "try:\n",
        "  os.symlink(KAGGLE_INPUT_PATH, os.path.join(\"..\", 'input'), target_is_directory=True)\n",
        "except FileExistsError:\n",
        "  pass\n",
        "try:\n",
        "  os.symlink(KAGGLE_WORKING_PATH, os.path.join(\"..\", 'working'), target_is_directory=True)\n",
        "except FileExistsError:\n",
        "  pass\n",
        "\n",
        "for data_source_mapping in DATA_SOURCE_MAPPING.split(','):\n",
        "    directory, download_url_encoded = data_source_mapping.split(':')\n",
        "    download_url = unquote(download_url_encoded)\n",
        "    filename = urlparse(download_url).path\n",
        "    destination_path = os.path.join(KAGGLE_INPUT_PATH, directory)\n",
        "    try:\n",
        "        with urlopen(download_url) as fileres, NamedTemporaryFile() as tfile:\n",
        "            total_length = fileres.headers['content-length']\n",
        "            print(f'Downloading {directory}, {total_length} bytes compressed')\n",
        "            dl = 0\n",
        "            data = fileres.read(CHUNK_SIZE)\n",
        "            while len(data) > 0:\n",
        "                dl += len(data)\n",
        "                tfile.write(data)\n",
        "                done = int(50 * dl / int(total_length))\n",
        "                sys.stdout.write(f\"\\r[{'=' * done}{' ' * (50-done)}] {dl} bytes downloaded\")\n",
        "                sys.stdout.flush()\n",
        "                data = fileres.read(CHUNK_SIZE)\n",
        "            if filename.endswith('.zip'):\n",
        "              with ZipFile(tfile) as zfile:\n",
        "                zfile.extractall(destination_path)\n",
        "            else:\n",
        "              with tarfile.open(tfile.name) as tarfile:\n",
        "                tarfile.extractall(destination_path)\n",
        "            print(f'\\nDownloaded and uncompressed: {directory}')\n",
        "    except HTTPError as e:\n",
        "        print(f'Failed to load (likely expired) {download_url} to path {destination_path}')\n",
        "        continue\n",
        "    except OSError as e:\n",
        "        print(f'Failed to load {download_url} to path {destination_path}')\n",
        "        continue\n",
        "\n",
        "print('Data source import complete.')\n"
      ],
      "metadata": {
        "id": "ZBN1KSO5ypBS"
      },
      "cell_type": "code",
      "outputs": [],
      "execution_count": null
    },
    {
      "cell_type": "code",
      "source": [
        "import pandas as pd\n",
        "from sklearn.utils import shuffle\n",
        "from sklearn.preprocessing import StandardScaler\n",
        "import numpy as np\n",
        "import matplotlib.pyplot as plt\n",
        "from sklearn.cluster import KMeans\n",
        "from sklearn.decomposition import PCA\n",
        "from sklearn.metrics import silhouette_score\n",
        "from sklearn.model_selection import train_test_split\n",
        "import matplotlib.pyplot as plt\n",
        "import torch.nn as nn\n",
        "import torch.nn.functional as F\n",
        "import torch.optim as optim\n",
        "from torch.utils.data import DataLoader\n",
        "from torchvision import transforms, datasets"
      ],
      "metadata": {
        "_cell_guid": "b1076dfc-b9ad-4769-8c92-a6c4dae69d19",
        "_uuid": "8f2839f25d086af736a60e9eeb907d3b93b6e0e5",
        "execution": {
          "iopub.status.busy": "2024-05-05T15:05:30.449954Z",
          "iopub.execute_input": "2024-05-05T15:05:30.450319Z",
          "iopub.status.idle": "2024-05-05T15:05:40.397164Z",
          "shell.execute_reply.started": "2024-05-05T15:05:30.45029Z",
          "shell.execute_reply": "2024-05-05T15:05:40.396Z"
        },
        "trusted": true,
        "id": "JJGAAX1mypBW"
      },
      "execution_count": null,
      "outputs": []
    },
    {
      "cell_type": "code",
      "source": [
        "data = pd.read_csv('/kaggle/input/phishing-data/Phishing_Legitimate_full.csv')\n",
        "data.head()"
      ],
      "metadata": {
        "execution": {
          "iopub.status.busy": "2024-05-05T15:05:40.39908Z",
          "iopub.execute_input": "2024-05-05T15:05:40.399805Z",
          "iopub.status.idle": "2024-05-05T15:05:40.518907Z",
          "shell.execute_reply.started": "2024-05-05T15:05:40.399773Z",
          "shell.execute_reply": "2024-05-05T15:05:40.517796Z"
        },
        "trusted": true,
        "id": "1kjxQngpypBX",
        "outputId": "df24f3d3-1a51-4a97-a732-819bb8e16b5e"
      },
      "execution_count": null,
      "outputs": [
        {
          "execution_count": 2,
          "output_type": "execute_result",
          "data": {
            "text/plain": "   id  NumDots  SubdomainLevel  PathLevel  UrlLength  NumDash  \\\n0   1        3               1          5         72        0   \n1   2        3               1          3        144        0   \n2   3        3               1          2         58        0   \n3   4        3               1          6         79        1   \n4   5        3               0          4         46        0   \n\n   NumDashInHostname  AtSymbol  TildeSymbol  NumUnderscore  ...  \\\n0                  0         0            0              0  ...   \n1                  0         0            0              2  ...   \n2                  0         0            0              0  ...   \n3                  0         0            0              0  ...   \n4                  0         0            0              0  ...   \n\n   IframeOrFrame  MissingTitle  ImagesOnlyInForm  SubdomainLevelRT  \\\n0              0             0                 1                 1   \n1              0             0                 0                 1   \n2              0             0                 0                 1   \n3              0             0                 0                 1   \n4              1             0                 0                 1   \n\n   UrlLengthRT  PctExtResourceUrlsRT  AbnormalExtFormActionR  \\\n0            0                     1                       1   \n1           -1                     1                       1   \n2            0                    -1                       1   \n3           -1                     1                       1   \n4            1                    -1                       0   \n\n   ExtMetaScriptLinkRT  PctExtNullSelfRedirectHyperlinksRT  CLASS_LABEL  \n0                   -1                                   1            1  \n1                    1                                   1            1  \n2                   -1                                   0            1  \n3                    1                                  -1            1  \n4                   -1                                  -1            1  \n\n[5 rows x 50 columns]",
            "text/html": "<div>\n<style scoped>\n    .dataframe tbody tr th:only-of-type {\n        vertical-align: middle;\n    }\n\n    .dataframe tbody tr th {\n        vertical-align: top;\n    }\n\n    .dataframe thead th {\n        text-align: right;\n    }\n</style>\n<table border=\"1\" class=\"dataframe\">\n  <thead>\n    <tr style=\"text-align: right;\">\n      <th></th>\n      <th>id</th>\n      <th>NumDots</th>\n      <th>SubdomainLevel</th>\n      <th>PathLevel</th>\n      <th>UrlLength</th>\n      <th>NumDash</th>\n      <th>NumDashInHostname</th>\n      <th>AtSymbol</th>\n      <th>TildeSymbol</th>\n      <th>NumUnderscore</th>\n      <th>...</th>\n      <th>IframeOrFrame</th>\n      <th>MissingTitle</th>\n      <th>ImagesOnlyInForm</th>\n      <th>SubdomainLevelRT</th>\n      <th>UrlLengthRT</th>\n      <th>PctExtResourceUrlsRT</th>\n      <th>AbnormalExtFormActionR</th>\n      <th>ExtMetaScriptLinkRT</th>\n      <th>PctExtNullSelfRedirectHyperlinksRT</th>\n      <th>CLASS_LABEL</th>\n    </tr>\n  </thead>\n  <tbody>\n    <tr>\n      <th>0</th>\n      <td>1</td>\n      <td>3</td>\n      <td>1</td>\n      <td>5</td>\n      <td>72</td>\n      <td>0</td>\n      <td>0</td>\n      <td>0</td>\n      <td>0</td>\n      <td>0</td>\n      <td>...</td>\n      <td>0</td>\n      <td>0</td>\n      <td>1</td>\n      <td>1</td>\n      <td>0</td>\n      <td>1</td>\n      <td>1</td>\n      <td>-1</td>\n      <td>1</td>\n      <td>1</td>\n    </tr>\n    <tr>\n      <th>1</th>\n      <td>2</td>\n      <td>3</td>\n      <td>1</td>\n      <td>3</td>\n      <td>144</td>\n      <td>0</td>\n      <td>0</td>\n      <td>0</td>\n      <td>0</td>\n      <td>2</td>\n      <td>...</td>\n      <td>0</td>\n      <td>0</td>\n      <td>0</td>\n      <td>1</td>\n      <td>-1</td>\n      <td>1</td>\n      <td>1</td>\n      <td>1</td>\n      <td>1</td>\n      <td>1</td>\n    </tr>\n    <tr>\n      <th>2</th>\n      <td>3</td>\n      <td>3</td>\n      <td>1</td>\n      <td>2</td>\n      <td>58</td>\n      <td>0</td>\n      <td>0</td>\n      <td>0</td>\n      <td>0</td>\n      <td>0</td>\n      <td>...</td>\n      <td>0</td>\n      <td>0</td>\n      <td>0</td>\n      <td>1</td>\n      <td>0</td>\n      <td>-1</td>\n      <td>1</td>\n      <td>-1</td>\n      <td>0</td>\n      <td>1</td>\n    </tr>\n    <tr>\n      <th>3</th>\n      <td>4</td>\n      <td>3</td>\n      <td>1</td>\n      <td>6</td>\n      <td>79</td>\n      <td>1</td>\n      <td>0</td>\n      <td>0</td>\n      <td>0</td>\n      <td>0</td>\n      <td>...</td>\n      <td>0</td>\n      <td>0</td>\n      <td>0</td>\n      <td>1</td>\n      <td>-1</td>\n      <td>1</td>\n      <td>1</td>\n      <td>1</td>\n      <td>-1</td>\n      <td>1</td>\n    </tr>\n    <tr>\n      <th>4</th>\n      <td>5</td>\n      <td>3</td>\n      <td>0</td>\n      <td>4</td>\n      <td>46</td>\n      <td>0</td>\n      <td>0</td>\n      <td>0</td>\n      <td>0</td>\n      <td>0</td>\n      <td>...</td>\n      <td>1</td>\n      <td>0</td>\n      <td>0</td>\n      <td>1</td>\n      <td>1</td>\n      <td>-1</td>\n      <td>0</td>\n      <td>-1</td>\n      <td>-1</td>\n      <td>1</td>\n    </tr>\n  </tbody>\n</table>\n<p>5 rows × 50 columns</p>\n</div>"
          },
          "metadata": {}
        }
      ]
    },
    {
      "cell_type": "code",
      "source": [
        "data.dtypes"
      ],
      "metadata": {
        "execution": {
          "iopub.status.busy": "2024-05-05T15:05:40.520367Z",
          "iopub.execute_input": "2024-05-05T15:05:40.521009Z",
          "iopub.status.idle": "2024-05-05T15:05:40.535179Z",
          "shell.execute_reply.started": "2024-05-05T15:05:40.520976Z",
          "shell.execute_reply": "2024-05-05T15:05:40.531832Z"
        },
        "trusted": true,
        "id": "nMJIlmm-ypBY",
        "outputId": "900f5845-1d11-42a8-f892-8a653dfe3ba0"
      },
      "execution_count": null,
      "outputs": [
        {
          "execution_count": 3,
          "output_type": "execute_result",
          "data": {
            "text/plain": "id                                      int64\nNumDots                                 int64\nSubdomainLevel                          int64\nPathLevel                               int64\nUrlLength                               int64\nNumDash                                 int64\nNumDashInHostname                       int64\nAtSymbol                                int64\nTildeSymbol                             int64\nNumUnderscore                           int64\nNumPercent                              int64\nNumQueryComponents                      int64\nNumAmpersand                            int64\nNumHash                                 int64\nNumNumericChars                         int64\nNoHttps                                 int64\nRandomString                            int64\nIpAddress                               int64\nDomainInSubdomains                      int64\nDomainInPaths                           int64\nHttpsInHostname                         int64\nHostnameLength                          int64\nPathLength                              int64\nQueryLength                             int64\nDoubleSlashInPath                       int64\nNumSensitiveWords                       int64\nEmbeddedBrandName                       int64\nPctExtHyperlinks                      float64\nPctExtResourceUrls                    float64\nExtFavicon                              int64\nInsecureForms                           int64\nRelativeFormAction                      int64\nExtFormAction                           int64\nAbnormalFormAction                      int64\nPctNullSelfRedirectHyperlinks         float64\nFrequentDomainNameMismatch              int64\nFakeLinkInStatusBar                     int64\nRightClickDisabled                      int64\nPopUpWindow                             int64\nSubmitInfoToEmail                       int64\nIframeOrFrame                           int64\nMissingTitle                            int64\nImagesOnlyInForm                        int64\nSubdomainLevelRT                        int64\nUrlLengthRT                             int64\nPctExtResourceUrlsRT                    int64\nAbnormalExtFormActionR                  int64\nExtMetaScriptLinkRT                     int64\nPctExtNullSelfRedirectHyperlinksRT      int64\nCLASS_LABEL                             int64\ndtype: object"
          },
          "metadata": {}
        }
      ]
    },
    {
      "cell_type": "code",
      "source": [
        "data.describe()"
      ],
      "metadata": {
        "execution": {
          "iopub.status.busy": "2024-05-05T15:05:40.538996Z",
          "iopub.execute_input": "2024-05-05T15:05:40.539536Z",
          "iopub.status.idle": "2024-05-05T15:05:40.682113Z",
          "shell.execute_reply.started": "2024-05-05T15:05:40.539492Z",
          "shell.execute_reply": "2024-05-05T15:05:40.681018Z"
        },
        "trusted": true,
        "id": "fXm6lENaypBY",
        "outputId": "f07febd7-266c-434b-8b59-e6ea476158fa"
      },
      "execution_count": null,
      "outputs": [
        {
          "execution_count": 4,
          "output_type": "execute_result",
          "data": {
            "text/plain": "                id       NumDots  SubdomainLevel     PathLevel     UrlLength  \\\ncount  10000.00000  10000.000000    10000.000000  10000.000000  10000.000000   \nmean    5000.50000      2.445100        0.586800      3.300300     70.264100   \nstd     2886.89568      1.346836        0.751214      1.863241     33.369877   \nmin        1.00000      1.000000        0.000000      0.000000     12.000000   \n25%     2500.75000      2.000000        0.000000      2.000000     48.000000   \n50%     5000.50000      2.000000        1.000000      3.000000     62.000000   \n75%     7500.25000      3.000000        1.000000      4.000000     84.000000   \nmax    10000.00000     21.000000       14.000000     18.000000    253.000000   \n\n            NumDash  NumDashInHostname      AtSymbol   TildeSymbol  \\\ncount  10000.000000       10000.000000  10000.000000  10000.000000   \nmean       1.818000           0.138900      0.000300      0.013100   \nstd        3.106258           0.545744      0.017319      0.113709   \nmin        0.000000           0.000000      0.000000      0.000000   \n25%        0.000000           0.000000      0.000000      0.000000   \n50%        0.000000           0.000000      0.000000      0.000000   \n75%        2.000000           0.000000      0.000000      0.000000   \nmax       55.000000           9.000000      1.000000      1.000000   \n\n       NumUnderscore  ...  IframeOrFrame  MissingTitle  ImagesOnlyInForm  \\\ncount    10000.00000  ...   10000.000000   10000.00000      10000.000000   \nmean         0.32320  ...       0.339600       0.03220          0.030400   \nstd          1.11466  ...       0.473597       0.17654          0.171694   \nmin          0.00000  ...       0.000000       0.00000          0.000000   \n25%          0.00000  ...       0.000000       0.00000          0.000000   \n50%          0.00000  ...       0.000000       0.00000          0.000000   \n75%          0.00000  ...       1.000000       0.00000          0.000000   \nmax         18.00000  ...       1.000000       1.00000          1.000000   \n\n       SubdomainLevelRT   UrlLengthRT  PctExtResourceUrlsRT  \\\ncount      10000.000000  10000.000000          10000.000000   \nmean           0.956600      0.020200              0.353300   \nstd            0.248037      0.820036              0.888908   \nmin           -1.000000     -1.000000             -1.000000   \n25%            1.000000     -1.000000             -1.000000   \n50%            1.000000      0.000000              1.000000   \n75%            1.000000      1.000000              1.000000   \nmax            1.000000      1.000000              1.000000   \n\n       AbnormalExtFormActionR  ExtMetaScriptLinkRT  \\\ncount            10000.000000         10000.000000   \nmean                 0.793200             0.173400   \nstd                  0.521019             0.755771   \nmin                 -1.000000            -1.000000   \n25%                  1.000000             0.000000   \n50%                  1.000000             0.000000   \n75%                  1.000000             1.000000   \nmax                  1.000000             1.000000   \n\n       PctExtNullSelfRedirectHyperlinksRT   CLASS_LABEL  \ncount                        10000.000000  10000.000000  \nmean                             0.314100      0.500000  \nstd                              0.897843      0.500025  \nmin                             -1.000000      0.000000  \n25%                             -1.000000      0.000000  \n50%                              1.000000      0.500000  \n75%                              1.000000      1.000000  \nmax                              1.000000      1.000000  \n\n[8 rows x 50 columns]",
            "text/html": "<div>\n<style scoped>\n    .dataframe tbody tr th:only-of-type {\n        vertical-align: middle;\n    }\n\n    .dataframe tbody tr th {\n        vertical-align: top;\n    }\n\n    .dataframe thead th {\n        text-align: right;\n    }\n</style>\n<table border=\"1\" class=\"dataframe\">\n  <thead>\n    <tr style=\"text-align: right;\">\n      <th></th>\n      <th>id</th>\n      <th>NumDots</th>\n      <th>SubdomainLevel</th>\n      <th>PathLevel</th>\n      <th>UrlLength</th>\n      <th>NumDash</th>\n      <th>NumDashInHostname</th>\n      <th>AtSymbol</th>\n      <th>TildeSymbol</th>\n      <th>NumUnderscore</th>\n      <th>...</th>\n      <th>IframeOrFrame</th>\n      <th>MissingTitle</th>\n      <th>ImagesOnlyInForm</th>\n      <th>SubdomainLevelRT</th>\n      <th>UrlLengthRT</th>\n      <th>PctExtResourceUrlsRT</th>\n      <th>AbnormalExtFormActionR</th>\n      <th>ExtMetaScriptLinkRT</th>\n      <th>PctExtNullSelfRedirectHyperlinksRT</th>\n      <th>CLASS_LABEL</th>\n    </tr>\n  </thead>\n  <tbody>\n    <tr>\n      <th>count</th>\n      <td>10000.00000</td>\n      <td>10000.000000</td>\n      <td>10000.000000</td>\n      <td>10000.000000</td>\n      <td>10000.000000</td>\n      <td>10000.000000</td>\n      <td>10000.000000</td>\n      <td>10000.000000</td>\n      <td>10000.000000</td>\n      <td>10000.00000</td>\n      <td>...</td>\n      <td>10000.000000</td>\n      <td>10000.00000</td>\n      <td>10000.000000</td>\n      <td>10000.000000</td>\n      <td>10000.000000</td>\n      <td>10000.000000</td>\n      <td>10000.000000</td>\n      <td>10000.000000</td>\n      <td>10000.000000</td>\n      <td>10000.000000</td>\n    </tr>\n    <tr>\n      <th>mean</th>\n      <td>5000.50000</td>\n      <td>2.445100</td>\n      <td>0.586800</td>\n      <td>3.300300</td>\n      <td>70.264100</td>\n      <td>1.818000</td>\n      <td>0.138900</td>\n      <td>0.000300</td>\n      <td>0.013100</td>\n      <td>0.32320</td>\n      <td>...</td>\n      <td>0.339600</td>\n      <td>0.03220</td>\n      <td>0.030400</td>\n      <td>0.956600</td>\n      <td>0.020200</td>\n      <td>0.353300</td>\n      <td>0.793200</td>\n      <td>0.173400</td>\n      <td>0.314100</td>\n      <td>0.500000</td>\n    </tr>\n    <tr>\n      <th>std</th>\n      <td>2886.89568</td>\n      <td>1.346836</td>\n      <td>0.751214</td>\n      <td>1.863241</td>\n      <td>33.369877</td>\n      <td>3.106258</td>\n      <td>0.545744</td>\n      <td>0.017319</td>\n      <td>0.113709</td>\n      <td>1.11466</td>\n      <td>...</td>\n      <td>0.473597</td>\n      <td>0.17654</td>\n      <td>0.171694</td>\n      <td>0.248037</td>\n      <td>0.820036</td>\n      <td>0.888908</td>\n      <td>0.521019</td>\n      <td>0.755771</td>\n      <td>0.897843</td>\n      <td>0.500025</td>\n    </tr>\n    <tr>\n      <th>min</th>\n      <td>1.00000</td>\n      <td>1.000000</td>\n      <td>0.000000</td>\n      <td>0.000000</td>\n      <td>12.000000</td>\n      <td>0.000000</td>\n      <td>0.000000</td>\n      <td>0.000000</td>\n      <td>0.000000</td>\n      <td>0.00000</td>\n      <td>...</td>\n      <td>0.000000</td>\n      <td>0.00000</td>\n      <td>0.000000</td>\n      <td>-1.000000</td>\n      <td>-1.000000</td>\n      <td>-1.000000</td>\n      <td>-1.000000</td>\n      <td>-1.000000</td>\n      <td>-1.000000</td>\n      <td>0.000000</td>\n    </tr>\n    <tr>\n      <th>25%</th>\n      <td>2500.75000</td>\n      <td>2.000000</td>\n      <td>0.000000</td>\n      <td>2.000000</td>\n      <td>48.000000</td>\n      <td>0.000000</td>\n      <td>0.000000</td>\n      <td>0.000000</td>\n      <td>0.000000</td>\n      <td>0.00000</td>\n      <td>...</td>\n      <td>0.000000</td>\n      <td>0.00000</td>\n      <td>0.000000</td>\n      <td>1.000000</td>\n      <td>-1.000000</td>\n      <td>-1.000000</td>\n      <td>1.000000</td>\n      <td>0.000000</td>\n      <td>-1.000000</td>\n      <td>0.000000</td>\n    </tr>\n    <tr>\n      <th>50%</th>\n      <td>5000.50000</td>\n      <td>2.000000</td>\n      <td>1.000000</td>\n      <td>3.000000</td>\n      <td>62.000000</td>\n      <td>0.000000</td>\n      <td>0.000000</td>\n      <td>0.000000</td>\n      <td>0.000000</td>\n      <td>0.00000</td>\n      <td>...</td>\n      <td>0.000000</td>\n      <td>0.00000</td>\n      <td>0.000000</td>\n      <td>1.000000</td>\n      <td>0.000000</td>\n      <td>1.000000</td>\n      <td>1.000000</td>\n      <td>0.000000</td>\n      <td>1.000000</td>\n      <td>0.500000</td>\n    </tr>\n    <tr>\n      <th>75%</th>\n      <td>7500.25000</td>\n      <td>3.000000</td>\n      <td>1.000000</td>\n      <td>4.000000</td>\n      <td>84.000000</td>\n      <td>2.000000</td>\n      <td>0.000000</td>\n      <td>0.000000</td>\n      <td>0.000000</td>\n      <td>0.00000</td>\n      <td>...</td>\n      <td>1.000000</td>\n      <td>0.00000</td>\n      <td>0.000000</td>\n      <td>1.000000</td>\n      <td>1.000000</td>\n      <td>1.000000</td>\n      <td>1.000000</td>\n      <td>1.000000</td>\n      <td>1.000000</td>\n      <td>1.000000</td>\n    </tr>\n    <tr>\n      <th>max</th>\n      <td>10000.00000</td>\n      <td>21.000000</td>\n      <td>14.000000</td>\n      <td>18.000000</td>\n      <td>253.000000</td>\n      <td>55.000000</td>\n      <td>9.000000</td>\n      <td>1.000000</td>\n      <td>1.000000</td>\n      <td>18.00000</td>\n      <td>...</td>\n      <td>1.000000</td>\n      <td>1.00000</td>\n      <td>1.000000</td>\n      <td>1.000000</td>\n      <td>1.000000</td>\n      <td>1.000000</td>\n      <td>1.000000</td>\n      <td>1.000000</td>\n      <td>1.000000</td>\n      <td>1.000000</td>\n    </tr>\n  </tbody>\n</table>\n<p>8 rows × 50 columns</p>\n</div>"
          },
          "metadata": {}
        }
      ]
    },
    {
      "cell_type": "code",
      "source": [
        "data = shuffle(data)\n",
        "threshold = 0.9 * len(data)\n",
        "data.dropna(thresh=threshold, axis=1)"
      ],
      "metadata": {
        "execution": {
          "iopub.status.busy": "2024-05-05T15:05:40.683332Z",
          "iopub.execute_input": "2024-05-05T15:05:40.683677Z",
          "iopub.status.idle": "2024-05-05T15:05:40.719684Z",
          "shell.execute_reply.started": "2024-05-05T15:05:40.683647Z",
          "shell.execute_reply": "2024-05-05T15:05:40.718553Z"
        },
        "trusted": true,
        "id": "UYUIWeKaypBZ",
        "outputId": "4baec1bd-f9ef-4a44-ae34-f03adf413412"
      },
      "execution_count": null,
      "outputs": [
        {
          "execution_count": 5,
          "output_type": "execute_result",
          "data": {
            "text/plain": "        id  NumDots  SubdomainLevel  PathLevel  UrlLength  NumDash  \\\n8096  8097        1               0          3         76        5   \n985    986        3               1          1         40        0   \n1702  1703        3               0          4         59        0   \n7143  7144        3               1          5        120       12   \n1417  1418        2               1          2         57        1   \n...    ...      ...             ...        ...        ...      ...   \n7631  7632        1               0          5         70        5   \n5640  5641        2               0          7         90        0   \n7210  7211        3               0          1         74        0   \n8309  8310        1               0          4         50        2   \n1199  1200        4               0          3        151        0   \n\n      NumDashInHostname  AtSymbol  TildeSymbol  NumUnderscore  ...  \\\n8096                  0         0            0              0  ...   \n985                   0         0            0              0  ...   \n1702                  0         0            0              0  ...   \n7143                  0         0            0              0  ...   \n1417                  1         0            0              0  ...   \n...                 ...       ...          ...            ...  ...   \n7631                  0         0            0              0  ...   \n5640                  0         0            0              0  ...   \n7210                  0         0            0              0  ...   \n8309                  0         0            0              0  ...   \n1199                  0         0            0              1  ...   \n\n      IframeOrFrame  MissingTitle  ImagesOnlyInForm  SubdomainLevelRT  \\\n8096              1             0                 0                 1   \n985               0             0                 0                 1   \n1702              0             0                 0                 1   \n7143              0             0                 0                 1   \n1417              0             0                 0                 1   \n...             ...           ...               ...               ...   \n7631              1             0                 0                 1   \n5640              0             0                 0                 1   \n7210              0             0                 0                 1   \n8309              1             0                 0                 1   \n1199              0             0                 0                 1   \n\n      UrlLengthRT  PctExtResourceUrlsRT  AbnormalExtFormActionR  \\\n8096           -1                    -1                       1   \n985             1                     1                       1   \n1702            0                     1                       1   \n7143           -1                     1                       1   \n1417            0                     1                       1   \n...           ...                   ...                     ...   \n7631            0                    -1                       0   \n5640           -1                     1                       0   \n7210            0                     1                       1   \n8309            1                    -1                       0   \n1199           -1                     1                       1   \n\n      ExtMetaScriptLinkRT  PctExtNullSelfRedirectHyperlinksRT  CLASS_LABEL  \n8096                    0                                   1            0  \n985                     1                                  -1            1  \n1702                    1                                   1            1  \n7143                    1                                   0            0  \n1417                    1                                  -1            1  \n...                   ...                                 ...          ...  \n7631                   -1                                   0            0  \n5640                    0                                   1            0  \n7210                    0                                   1            0  \n8309                    0                                   1            0  \n1199                    0                                   0            1  \n\n[10000 rows x 50 columns]",
            "text/html": "<div>\n<style scoped>\n    .dataframe tbody tr th:only-of-type {\n        vertical-align: middle;\n    }\n\n    .dataframe tbody tr th {\n        vertical-align: top;\n    }\n\n    .dataframe thead th {\n        text-align: right;\n    }\n</style>\n<table border=\"1\" class=\"dataframe\">\n  <thead>\n    <tr style=\"text-align: right;\">\n      <th></th>\n      <th>id</th>\n      <th>NumDots</th>\n      <th>SubdomainLevel</th>\n      <th>PathLevel</th>\n      <th>UrlLength</th>\n      <th>NumDash</th>\n      <th>NumDashInHostname</th>\n      <th>AtSymbol</th>\n      <th>TildeSymbol</th>\n      <th>NumUnderscore</th>\n      <th>...</th>\n      <th>IframeOrFrame</th>\n      <th>MissingTitle</th>\n      <th>ImagesOnlyInForm</th>\n      <th>SubdomainLevelRT</th>\n      <th>UrlLengthRT</th>\n      <th>PctExtResourceUrlsRT</th>\n      <th>AbnormalExtFormActionR</th>\n      <th>ExtMetaScriptLinkRT</th>\n      <th>PctExtNullSelfRedirectHyperlinksRT</th>\n      <th>CLASS_LABEL</th>\n    </tr>\n  </thead>\n  <tbody>\n    <tr>\n      <th>8096</th>\n      <td>8097</td>\n      <td>1</td>\n      <td>0</td>\n      <td>3</td>\n      <td>76</td>\n      <td>5</td>\n      <td>0</td>\n      <td>0</td>\n      <td>0</td>\n      <td>0</td>\n      <td>...</td>\n      <td>1</td>\n      <td>0</td>\n      <td>0</td>\n      <td>1</td>\n      <td>-1</td>\n      <td>-1</td>\n      <td>1</td>\n      <td>0</td>\n      <td>1</td>\n      <td>0</td>\n    </tr>\n    <tr>\n      <th>985</th>\n      <td>986</td>\n      <td>3</td>\n      <td>1</td>\n      <td>1</td>\n      <td>40</td>\n      <td>0</td>\n      <td>0</td>\n      <td>0</td>\n      <td>0</td>\n      <td>0</td>\n      <td>...</td>\n      <td>0</td>\n      <td>0</td>\n      <td>0</td>\n      <td>1</td>\n      <td>1</td>\n      <td>1</td>\n      <td>1</td>\n      <td>1</td>\n      <td>-1</td>\n      <td>1</td>\n    </tr>\n    <tr>\n      <th>1702</th>\n      <td>1703</td>\n      <td>3</td>\n      <td>0</td>\n      <td>4</td>\n      <td>59</td>\n      <td>0</td>\n      <td>0</td>\n      <td>0</td>\n      <td>0</td>\n      <td>0</td>\n      <td>...</td>\n      <td>0</td>\n      <td>0</td>\n      <td>0</td>\n      <td>1</td>\n      <td>0</td>\n      <td>1</td>\n      <td>1</td>\n      <td>1</td>\n      <td>1</td>\n      <td>1</td>\n    </tr>\n    <tr>\n      <th>7143</th>\n      <td>7144</td>\n      <td>3</td>\n      <td>1</td>\n      <td>5</td>\n      <td>120</td>\n      <td>12</td>\n      <td>0</td>\n      <td>0</td>\n      <td>0</td>\n      <td>0</td>\n      <td>...</td>\n      <td>0</td>\n      <td>0</td>\n      <td>0</td>\n      <td>1</td>\n      <td>-1</td>\n      <td>1</td>\n      <td>1</td>\n      <td>1</td>\n      <td>0</td>\n      <td>0</td>\n    </tr>\n    <tr>\n      <th>1417</th>\n      <td>1418</td>\n      <td>2</td>\n      <td>1</td>\n      <td>2</td>\n      <td>57</td>\n      <td>1</td>\n      <td>1</td>\n      <td>0</td>\n      <td>0</td>\n      <td>0</td>\n      <td>...</td>\n      <td>0</td>\n      <td>0</td>\n      <td>0</td>\n      <td>1</td>\n      <td>0</td>\n      <td>1</td>\n      <td>1</td>\n      <td>1</td>\n      <td>-1</td>\n      <td>1</td>\n    </tr>\n    <tr>\n      <th>...</th>\n      <td>...</td>\n      <td>...</td>\n      <td>...</td>\n      <td>...</td>\n      <td>...</td>\n      <td>...</td>\n      <td>...</td>\n      <td>...</td>\n      <td>...</td>\n      <td>...</td>\n      <td>...</td>\n      <td>...</td>\n      <td>...</td>\n      <td>...</td>\n      <td>...</td>\n      <td>...</td>\n      <td>...</td>\n      <td>...</td>\n      <td>...</td>\n      <td>...</td>\n      <td>...</td>\n    </tr>\n    <tr>\n      <th>7631</th>\n      <td>7632</td>\n      <td>1</td>\n      <td>0</td>\n      <td>5</td>\n      <td>70</td>\n      <td>5</td>\n      <td>0</td>\n      <td>0</td>\n      <td>0</td>\n      <td>0</td>\n      <td>...</td>\n      <td>1</td>\n      <td>0</td>\n      <td>0</td>\n      <td>1</td>\n      <td>0</td>\n      <td>-1</td>\n      <td>0</td>\n      <td>-1</td>\n      <td>0</td>\n      <td>0</td>\n    </tr>\n    <tr>\n      <th>5640</th>\n      <td>5641</td>\n      <td>2</td>\n      <td>0</td>\n      <td>7</td>\n      <td>90</td>\n      <td>0</td>\n      <td>0</td>\n      <td>0</td>\n      <td>0</td>\n      <td>0</td>\n      <td>...</td>\n      <td>0</td>\n      <td>0</td>\n      <td>0</td>\n      <td>1</td>\n      <td>-1</td>\n      <td>1</td>\n      <td>0</td>\n      <td>0</td>\n      <td>1</td>\n      <td>0</td>\n    </tr>\n    <tr>\n      <th>7210</th>\n      <td>7211</td>\n      <td>3</td>\n      <td>0</td>\n      <td>1</td>\n      <td>74</td>\n      <td>0</td>\n      <td>0</td>\n      <td>0</td>\n      <td>0</td>\n      <td>0</td>\n      <td>...</td>\n      <td>0</td>\n      <td>0</td>\n      <td>0</td>\n      <td>1</td>\n      <td>0</td>\n      <td>1</td>\n      <td>1</td>\n      <td>0</td>\n      <td>1</td>\n      <td>0</td>\n    </tr>\n    <tr>\n      <th>8309</th>\n      <td>8310</td>\n      <td>1</td>\n      <td>0</td>\n      <td>4</td>\n      <td>50</td>\n      <td>2</td>\n      <td>0</td>\n      <td>0</td>\n      <td>0</td>\n      <td>0</td>\n      <td>...</td>\n      <td>1</td>\n      <td>0</td>\n      <td>0</td>\n      <td>1</td>\n      <td>1</td>\n      <td>-1</td>\n      <td>0</td>\n      <td>0</td>\n      <td>1</td>\n      <td>0</td>\n    </tr>\n    <tr>\n      <th>1199</th>\n      <td>1200</td>\n      <td>4</td>\n      <td>0</td>\n      <td>3</td>\n      <td>151</td>\n      <td>0</td>\n      <td>0</td>\n      <td>0</td>\n      <td>0</td>\n      <td>1</td>\n      <td>...</td>\n      <td>0</td>\n      <td>0</td>\n      <td>0</td>\n      <td>1</td>\n      <td>-1</td>\n      <td>1</td>\n      <td>1</td>\n      <td>0</td>\n      <td>0</td>\n      <td>1</td>\n    </tr>\n  </tbody>\n</table>\n<p>10000 rows × 50 columns</p>\n</div>"
          },
          "metadata": {}
        }
      ]
    },
    {
      "cell_type": "code",
      "source": [
        "X = data.drop(columns=['id', 'CLASS_LABEL'])\n",
        "y = data['CLASS_LABEL']\n",
        "scaler = StandardScaler()\n",
        "X = scaler.fit_transform(X)"
      ],
      "metadata": {
        "execution": {
          "iopub.status.busy": "2024-05-05T15:05:40.72132Z",
          "iopub.execute_input": "2024-05-05T15:05:40.721776Z",
          "iopub.status.idle": "2024-05-05T15:05:40.754401Z",
          "shell.execute_reply.started": "2024-05-05T15:05:40.721715Z",
          "shell.execute_reply": "2024-05-05T15:05:40.753331Z"
        },
        "trusted": true,
        "id": "g1BfVQI3ypBZ"
      },
      "execution_count": null,
      "outputs": []
    },
    {
      "cell_type": "code",
      "source": [
        "import torch\n",
        "import torch.nn as nn\n",
        "import torch.optim as optim\n",
        "from torch.utils.data import DataLoader, TensorDataset\n",
        "from tqdm import tqdm\n",
        "\n",
        "# Encoder\n",
        "class Encoder(nn.Module):\n",
        "    def __init__(self, input_dim, latent_dim):\n",
        "        super(Encoder, self).__init__()\n",
        "        self.fc = nn.Linear(input_dim, latent_dim * 2)\n",
        "\n",
        "    def forward(self, x):\n",
        "        x = self.fc(x)\n",
        "        mu, log_var = x.chunk(2, dim=-1)\n",
        "        return mu, log_var\n",
        "\n",
        "# Decoder\n",
        "class Decoder(nn.Module):\n",
        "    def __init__(self, latent_dim, output_dim):\n",
        "        super(Decoder, self).__init__()\n",
        "        self.fc = nn.Linear(latent_dim, output_dim)\n",
        "\n",
        "    def forward(self, z):\n",
        "        x_hat = self.fc(z)\n",
        "        return x_hat\n",
        "\n",
        "# CVAE\n",
        "class VAE(nn.Module):\n",
        "    def __init__(self, input_dim, latent_dim):\n",
        "        super(VAE, self).__init__()\n",
        "        self.encoder = Encoder(input_dim, latent_dim)\n",
        "        self.decoder = Decoder(latent_dim, input_dim)\n",
        "\n",
        "    def forward(self, x):\n",
        "        mu, log_var = self.encoder(x)\n",
        "        z = self.reparameterize(mu, log_var)\n",
        "        x_hat = self.decoder(z)\n",
        "        return x_hat, mu, log_var\n",
        "\n",
        "    def reparameterize(self, mu, log_var):\n",
        "        std = torch.exp(0.5 * log_var)\n",
        "        eps = torch.randn_like(std)\n",
        "        return mu + eps * std\n",
        "\n",
        "def loss_function(x, x_hat, mu, log_var):\n",
        "    recon_loss = nn.BCEWithLogitsLoss(reduction='sum')\n",
        "    BCE = recon_loss(x_hat, x)  # Reconstruction loss\n",
        "\n",
        "    # Compute KL divergence loss\n",
        "    KLD = -0.5 * torch.sum(1 + log_var - mu.pow(2) - log_var.exp())\n",
        "    KLD /= x.size(0)\n",
        "\n",
        "    return BCE + KLD"
      ],
      "metadata": {
        "execution": {
          "iopub.status.busy": "2024-05-05T15:05:40.755878Z",
          "iopub.execute_input": "2024-05-05T15:05:40.756286Z",
          "iopub.status.idle": "2024-05-05T15:05:40.771929Z",
          "shell.execute_reply.started": "2024-05-05T15:05:40.756245Z",
          "shell.execute_reply": "2024-05-05T15:05:40.771036Z"
        },
        "trusted": true,
        "id": "1kIsdSgEypBZ"
      },
      "execution_count": null,
      "outputs": []
    },
    {
      "cell_type": "code",
      "source": [
        "features, labels = X, y\n",
        "features_tensor = torch.tensor(features, dtype=torch.float32)\n",
        "labels_tensor = torch.tensor(labels.values, dtype=torch.float32)\n",
        "print(features_tensor.shape)\n",
        "print(labels_tensor.shape)\n",
        "\n",
        "# print(features)\n",
        "dataset = TensorDataset(features_tensor, labels_tensor)\n",
        "dataloader = DataLoader(dataset, batch_size=32, shuffle=True)\n",
        "\n",
        "# Initialization of model\n",
        "input_dim = features.shape[1]\n",
        "latent_dim = 16\n",
        "vae_model = VAE(input_dim, latent_dim)\n",
        "print(vae_model)\n",
        "# Optimizer with weight decay (L2 regularization)\n",
        "optimizer = optim.Adam(vae_model.parameters(), lr=0.00001, weight_decay=0.001)  # Weight decay of 0.001\n",
        "epochs = 65\n",
        "\n",
        "for epoch in range(epochs):\n",
        "    running_loss = 0.0\n",
        "    for batch in tqdm(dataloader):\n",
        "        x, _ = batch\n",
        "        optimizer.zero_grad()\n",
        "        x_hat, mu, log_var = vae_model(x)\n",
        "        loss = loss_function(x, x_hat, mu, log_var)\n",
        "        loss.backward()\n",
        "        optimizer.step()\n",
        "        running_loss += loss.item()\n",
        "    print(f\"Epoch {epoch+1}, Loss: {running_loss / len(dataloader)}\")"
      ],
      "metadata": {
        "execution": {
          "iopub.status.busy": "2024-05-05T15:05:40.773245Z",
          "iopub.execute_input": "2024-05-05T15:05:40.774143Z",
          "iopub.status.idle": "2024-05-05T15:06:20.421348Z",
          "shell.execute_reply.started": "2024-05-05T15:05:40.774102Z",
          "shell.execute_reply": "2024-05-05T15:06:20.420269Z"
        },
        "trusted": true,
        "id": "oMjp_xTqypBa",
        "outputId": "ce4ddd5c-d3df-48bb-aae5-3ab0aee02642"
      },
      "execution_count": null,
      "outputs": [
        {
          "name": "stdout",
          "text": "torch.Size([10000, 48])\ntorch.Size([10000])\nVAE(\n  (encoder): Encoder(\n    (fc): Linear(in_features=48, out_features=32, bias=True)\n  )\n  (decoder): Decoder(\n    (fc): Linear(in_features=16, out_features=48, bias=True)\n  )\n)\n",
          "output_type": "stream"
        },
        {
          "name": "stderr",
          "text": "100%|██████████| 313/313 [00:00<00:00, 429.58it/s]\n",
          "output_type": "stream"
        },
        {
          "name": "stdout",
          "text": "Epoch 1, Loss: 1171.6941153919354\n",
          "output_type": "stream"
        },
        {
          "name": "stderr",
          "text": "100%|██████████| 313/313 [00:00<00:00, 521.04it/s]\n",
          "output_type": "stream"
        },
        {
          "name": "stdout",
          "text": "Epoch 2, Loss: 1156.9670610031762\n",
          "output_type": "stream"
        },
        {
          "name": "stderr",
          "text": "100%|██████████| 313/313 [00:00<00:00, 522.52it/s]\n",
          "output_type": "stream"
        },
        {
          "name": "stdout",
          "text": "Epoch 3, Loss: 1142.8202930487003\n",
          "output_type": "stream"
        },
        {
          "name": "stderr",
          "text": "100%|██████████| 313/313 [00:00<00:00, 525.44it/s]\n",
          "output_type": "stream"
        },
        {
          "name": "stdout",
          "text": "Epoch 4, Loss: 1131.3102372142073\n",
          "output_type": "stream"
        },
        {
          "name": "stderr",
          "text": "100%|██████████| 313/313 [00:00<00:00, 519.38it/s]\n",
          "output_type": "stream"
        },
        {
          "name": "stdout",
          "text": "Epoch 5, Loss: 1114.601263064546\n",
          "output_type": "stream"
        },
        {
          "name": "stderr",
          "text": "100%|██████████| 313/313 [00:00<00:00, 534.99it/s]\n",
          "output_type": "stream"
        },
        {
          "name": "stdout",
          "text": "Epoch 6, Loss: 1106.8557192281412\n",
          "output_type": "stream"
        },
        {
          "name": "stderr",
          "text": "100%|██████████| 313/313 [00:00<00:00, 538.60it/s]\n",
          "output_type": "stream"
        },
        {
          "name": "stdout",
          "text": "Epoch 7, Loss: 1092.3237417787789\n",
          "output_type": "stream"
        },
        {
          "name": "stderr",
          "text": "100%|██████████| 313/313 [00:00<00:00, 543.46it/s]\n",
          "output_type": "stream"
        },
        {
          "name": "stdout",
          "text": "Epoch 8, Loss: 1084.559833953175\n",
          "output_type": "stream"
        },
        {
          "name": "stderr",
          "text": "100%|██████████| 313/313 [00:00<00:00, 498.64it/s]\n",
          "output_type": "stream"
        },
        {
          "name": "stdout",
          "text": "Epoch 9, Loss: 1067.7715810952477\n",
          "output_type": "stream"
        },
        {
          "name": "stderr",
          "text": "100%|██████████| 313/313 [00:00<00:00, 532.38it/s]\n",
          "output_type": "stream"
        },
        {
          "name": "stdout",
          "text": "Epoch 10, Loss: 1058.3717404691556\n",
          "output_type": "stream"
        },
        {
          "name": "stderr",
          "text": "100%|██████████| 313/313 [00:00<00:00, 537.19it/s]\n",
          "output_type": "stream"
        },
        {
          "name": "stdout",
          "text": "Epoch 11, Loss: 1041.6937388459714\n",
          "output_type": "stream"
        },
        {
          "name": "stderr",
          "text": "100%|██████████| 313/313 [00:00<00:00, 511.31it/s]\n",
          "output_type": "stream"
        },
        {
          "name": "stdout",
          "text": "Epoch 12, Loss: 1024.9610815566189\n",
          "output_type": "stream"
        },
        {
          "name": "stderr",
          "text": "100%|██████████| 313/313 [00:00<00:00, 523.86it/s]\n",
          "output_type": "stream"
        },
        {
          "name": "stdout",
          "text": "Epoch 13, Loss: 1019.9196775393744\n",
          "output_type": "stream"
        },
        {
          "name": "stderr",
          "text": "100%|██████████| 313/313 [00:00<00:00, 532.63it/s]\n",
          "output_type": "stream"
        },
        {
          "name": "stdout",
          "text": "Epoch 14, Loss: 999.8105508968853\n",
          "output_type": "stream"
        },
        {
          "name": "stderr",
          "text": "100%|██████████| 313/313 [00:00<00:00, 528.13it/s]\n",
          "output_type": "stream"
        },
        {
          "name": "stdout",
          "text": "Epoch 15, Loss: 985.8395169779135\n",
          "output_type": "stream"
        },
        {
          "name": "stderr",
          "text": "100%|██████████| 313/313 [00:00<00:00, 538.19it/s]\n",
          "output_type": "stream"
        },
        {
          "name": "stdout",
          "text": "Epoch 16, Loss: 977.2670653711873\n",
          "output_type": "stream"
        },
        {
          "name": "stderr",
          "text": "100%|██████████| 313/313 [00:00<00:00, 536.24it/s]\n",
          "output_type": "stream"
        },
        {
          "name": "stdout",
          "text": "Epoch 17, Loss: 961.3770443852336\n",
          "output_type": "stream"
        },
        {
          "name": "stderr",
          "text": "100%|██████████| 313/313 [00:00<00:00, 539.77it/s]\n",
          "output_type": "stream"
        },
        {
          "name": "stdout",
          "text": "Epoch 18, Loss: 950.1790817309492\n",
          "output_type": "stream"
        },
        {
          "name": "stderr",
          "text": "100%|██████████| 313/313 [00:00<00:00, 532.97it/s]\n",
          "output_type": "stream"
        },
        {
          "name": "stdout",
          "text": "Epoch 19, Loss: 935.6544546304038\n",
          "output_type": "stream"
        },
        {
          "name": "stderr",
          "text": "100%|██████████| 313/313 [00:00<00:00, 532.21it/s]\n",
          "output_type": "stream"
        },
        {
          "name": "stdout",
          "text": "Epoch 20, Loss: 927.6045049600327\n",
          "output_type": "stream"
        },
        {
          "name": "stderr",
          "text": "100%|██████████| 313/313 [00:00<00:00, 525.82it/s]\n",
          "output_type": "stream"
        },
        {
          "name": "stdout",
          "text": "Epoch 21, Loss: 908.792967945623\n",
          "output_type": "stream"
        },
        {
          "name": "stderr",
          "text": "100%|██████████| 313/313 [00:00<00:00, 519.28it/s]\n",
          "output_type": "stream"
        },
        {
          "name": "stdout",
          "text": "Epoch 22, Loss: 891.5482429285018\n",
          "output_type": "stream"
        },
        {
          "name": "stderr",
          "text": "100%|██████████| 313/313 [00:00<00:00, 522.27it/s]\n",
          "output_type": "stream"
        },
        {
          "name": "stdout",
          "text": "Epoch 23, Loss: 877.6970972420689\n",
          "output_type": "stream"
        },
        {
          "name": "stderr",
          "text": "100%|██████████| 313/313 [00:00<00:00, 518.78it/s]\n",
          "output_type": "stream"
        },
        {
          "name": "stdout",
          "text": "Epoch 24, Loss: 864.1115423817985\n",
          "output_type": "stream"
        },
        {
          "name": "stderr",
          "text": "100%|██████████| 313/313 [00:00<00:00, 446.15it/s]\n",
          "output_type": "stream"
        },
        {
          "name": "stdout",
          "text": "Epoch 25, Loss: 853.2075212131293\n",
          "output_type": "stream"
        },
        {
          "name": "stderr",
          "text": "100%|██████████| 313/313 [00:00<00:00, 512.52it/s]\n",
          "output_type": "stream"
        },
        {
          "name": "stdout",
          "text": "Epoch 26, Loss: 833.802302948583\n",
          "output_type": "stream"
        },
        {
          "name": "stderr",
          "text": "100%|██████████| 313/313 [00:00<00:00, 530.13it/s]\n",
          "output_type": "stream"
        },
        {
          "name": "stdout",
          "text": "Epoch 27, Loss: 818.5124190699178\n",
          "output_type": "stream"
        },
        {
          "name": "stderr",
          "text": "100%|██████████| 313/313 [00:00<00:00, 528.06it/s]\n",
          "output_type": "stream"
        },
        {
          "name": "stdout",
          "text": "Epoch 28, Loss: 806.4781327658949\n",
          "output_type": "stream"
        },
        {
          "name": "stderr",
          "text": "100%|██████████| 313/313 [00:00<00:00, 525.06it/s]\n",
          "output_type": "stream"
        },
        {
          "name": "stdout",
          "text": "Epoch 29, Loss: 790.1329699629031\n",
          "output_type": "stream"
        },
        {
          "name": "stderr",
          "text": "100%|██████████| 313/313 [00:00<00:00, 504.53it/s]\n",
          "output_type": "stream"
        },
        {
          "name": "stdout",
          "text": "Epoch 30, Loss: 773.4609158549446\n",
          "output_type": "stream"
        },
        {
          "name": "stderr",
          "text": "100%|██████████| 313/313 [00:00<00:00, 528.84it/s]\n",
          "output_type": "stream"
        },
        {
          "name": "stdout",
          "text": "Epoch 31, Loss: 752.2361125885108\n",
          "output_type": "stream"
        },
        {
          "name": "stderr",
          "text": "100%|██████████| 313/313 [00:00<00:00, 504.70it/s]\n",
          "output_type": "stream"
        },
        {
          "name": "stdout",
          "text": "Epoch 32, Loss: 741.17002347026\n",
          "output_type": "stream"
        },
        {
          "name": "stderr",
          "text": "100%|██████████| 313/313 [00:00<00:00, 520.09it/s]\n",
          "output_type": "stream"
        },
        {
          "name": "stdout",
          "text": "Epoch 33, Loss: 724.4388548634685\n",
          "output_type": "stream"
        },
        {
          "name": "stderr",
          "text": "100%|██████████| 313/313 [00:00<00:00, 527.65it/s]\n",
          "output_type": "stream"
        },
        {
          "name": "stdout",
          "text": "Epoch 34, Loss: 706.9298025502945\n",
          "output_type": "stream"
        },
        {
          "name": "stderr",
          "text": "100%|██████████| 313/313 [00:00<00:00, 514.05it/s]\n",
          "output_type": "stream"
        },
        {
          "name": "stdout",
          "text": "Epoch 35, Loss: 686.6487157900874\n",
          "output_type": "stream"
        },
        {
          "name": "stderr",
          "text": "100%|██████████| 313/313 [00:00<00:00, 515.35it/s]\n",
          "output_type": "stream"
        },
        {
          "name": "stdout",
          "text": "Epoch 36, Loss: 673.0745838153096\n",
          "output_type": "stream"
        },
        {
          "name": "stderr",
          "text": "100%|██████████| 313/313 [00:00<00:00, 512.47it/s]\n",
          "output_type": "stream"
        },
        {
          "name": "stdout",
          "text": "Epoch 37, Loss: 657.7368934314471\n",
          "output_type": "stream"
        },
        {
          "name": "stderr",
          "text": "100%|██████████| 313/313 [00:00<00:00, 520.80it/s]\n",
          "output_type": "stream"
        },
        {
          "name": "stdout",
          "text": "Epoch 38, Loss: 636.0982928900673\n",
          "output_type": "stream"
        },
        {
          "name": "stderr",
          "text": "100%|██████████| 313/313 [00:00<00:00, 524.22it/s]\n",
          "output_type": "stream"
        },
        {
          "name": "stdout",
          "text": "Epoch 39, Loss: 620.3479092387727\n",
          "output_type": "stream"
        },
        {
          "name": "stderr",
          "text": "100%|██████████| 313/313 [00:00<00:00, 516.81it/s]\n",
          "output_type": "stream"
        },
        {
          "name": "stdout",
          "text": "Epoch 40, Loss: 597.969441398645\n",
          "output_type": "stream"
        },
        {
          "name": "stderr",
          "text": "100%|██████████| 313/313 [00:00<00:00, 533.41it/s]\n",
          "output_type": "stream"
        },
        {
          "name": "stdout",
          "text": "Epoch 41, Loss: 582.4855967756278\n",
          "output_type": "stream"
        },
        {
          "name": "stderr",
          "text": "100%|██████████| 313/313 [00:00<00:00, 493.01it/s]\n",
          "output_type": "stream"
        },
        {
          "name": "stdout",
          "text": "Epoch 42, Loss: 564.8609367589982\n",
          "output_type": "stream"
        },
        {
          "name": "stderr",
          "text": "100%|██████████| 313/313 [00:00<00:00, 533.23it/s]\n",
          "output_type": "stream"
        },
        {
          "name": "stdout",
          "text": "Epoch 43, Loss: 544.90417577969\n",
          "output_type": "stream"
        },
        {
          "name": "stderr",
          "text": "100%|██████████| 313/313 [00:00<00:00, 529.35it/s]\n",
          "output_type": "stream"
        },
        {
          "name": "stdout",
          "text": "Epoch 44, Loss: 526.0579946597163\n",
          "output_type": "stream"
        },
        {
          "name": "stderr",
          "text": "100%|██████████| 313/313 [00:00<00:00, 530.14it/s]\n",
          "output_type": "stream"
        },
        {
          "name": "stdout",
          "text": "Epoch 45, Loss: 507.67171407583805\n",
          "output_type": "stream"
        },
        {
          "name": "stderr",
          "text": "100%|██████████| 313/313 [00:00<00:00, 488.02it/s]\n",
          "output_type": "stream"
        },
        {
          "name": "stdout",
          "text": "Epoch 46, Loss: 485.3827150180317\n",
          "output_type": "stream"
        },
        {
          "name": "stderr",
          "text": "100%|██████████| 313/313 [00:00<00:00, 515.83it/s]\n",
          "output_type": "stream"
        },
        {
          "name": "stdout",
          "text": "Epoch 47, Loss: 468.38033057020874\n",
          "output_type": "stream"
        },
        {
          "name": "stderr",
          "text": "100%|██████████| 313/313 [00:00<00:00, 487.88it/s]\n",
          "output_type": "stream"
        },
        {
          "name": "stdout",
          "text": "Epoch 48, Loss: 450.15488722073\n",
          "output_type": "stream"
        },
        {
          "name": "stderr",
          "text": "100%|██████████| 313/313 [00:00<00:00, 527.35it/s]\n",
          "output_type": "stream"
        },
        {
          "name": "stdout",
          "text": "Epoch 49, Loss: 422.98061972304276\n",
          "output_type": "stream"
        },
        {
          "name": "stderr",
          "text": "100%|██████████| 313/313 [00:00<00:00, 518.43it/s]\n",
          "output_type": "stream"
        },
        {
          "name": "stdout",
          "text": "Epoch 50, Loss: 405.51201539450943\n",
          "output_type": "stream"
        },
        {
          "name": "stderr",
          "text": "100%|██████████| 313/313 [00:00<00:00, 508.29it/s]\n",
          "output_type": "stream"
        },
        {
          "name": "stdout",
          "text": "Epoch 51, Loss: 382.7768383696437\n",
          "output_type": "stream"
        },
        {
          "name": "stderr",
          "text": "100%|██████████| 313/313 [00:00<00:00, 521.79it/s]\n",
          "output_type": "stream"
        },
        {
          "name": "stdout",
          "text": "Epoch 52, Loss: 364.5430683099424\n",
          "output_type": "stream"
        },
        {
          "name": "stderr",
          "text": "100%|██████████| 313/313 [00:00<00:00, 526.14it/s]\n",
          "output_type": "stream"
        },
        {
          "name": "stdout",
          "text": "Epoch 53, Loss: 341.3358552097893\n",
          "output_type": "stream"
        },
        {
          "name": "stderr",
          "text": "100%|██████████| 313/313 [00:00<00:00, 509.76it/s]\n",
          "output_type": "stream"
        },
        {
          "name": "stdout",
          "text": "Epoch 54, Loss: 317.013850397957\n",
          "output_type": "stream"
        },
        {
          "name": "stderr",
          "text": "100%|██████████| 313/313 [00:00<00:00, 513.64it/s]\n",
          "output_type": "stream"
        },
        {
          "name": "stdout",
          "text": "Epoch 55, Loss: 295.88096131151093\n",
          "output_type": "stream"
        },
        {
          "name": "stderr",
          "text": "100%|██████████| 313/313 [00:00<00:00, 515.36it/s]\n",
          "output_type": "stream"
        },
        {
          "name": "stdout",
          "text": "Epoch 56, Loss: 270.91007036446763\n",
          "output_type": "stream"
        },
        {
          "name": "stderr",
          "text": "100%|██████████| 313/313 [00:00<00:00, 512.44it/s]\n",
          "output_type": "stream"
        },
        {
          "name": "stdout",
          "text": "Epoch 57, Loss: 260.4477767761523\n",
          "output_type": "stream"
        },
        {
          "name": "stderr",
          "text": "100%|██████████| 313/313 [00:00<00:00, 490.71it/s]\n",
          "output_type": "stream"
        },
        {
          "name": "stdout",
          "text": "Epoch 58, Loss: 233.65902960414704\n",
          "output_type": "stream"
        },
        {
          "name": "stderr",
          "text": "100%|██████████| 313/313 [00:00<00:00, 522.74it/s]\n",
          "output_type": "stream"
        },
        {
          "name": "stdout",
          "text": "Epoch 59, Loss: 211.22343853106514\n",
          "output_type": "stream"
        },
        {
          "name": "stderr",
          "text": "100%|██████████| 313/313 [00:00<00:00, 506.46it/s]\n",
          "output_type": "stream"
        },
        {
          "name": "stdout",
          "text": "Epoch 60, Loss: 190.6661555866083\n",
          "output_type": "stream"
        },
        {
          "name": "stderr",
          "text": "100%|██████████| 313/313 [00:00<00:00, 507.72it/s]\n",
          "output_type": "stream"
        },
        {
          "name": "stdout",
          "text": "Epoch 61, Loss: 170.61626802389614\n",
          "output_type": "stream"
        },
        {
          "name": "stderr",
          "text": "100%|██████████| 313/313 [00:00<00:00, 524.52it/s]\n",
          "output_type": "stream"
        },
        {
          "name": "stdout",
          "text": "Epoch 62, Loss: 149.24040448246672\n",
          "output_type": "stream"
        },
        {
          "name": "stderr",
          "text": "100%|██████████| 313/313 [00:00<00:00, 530.32it/s]\n",
          "output_type": "stream"
        },
        {
          "name": "stdout",
          "text": "Epoch 63, Loss: 127.47203261402849\n",
          "output_type": "stream"
        },
        {
          "name": "stderr",
          "text": "100%|██████████| 313/313 [00:00<00:00, 530.34it/s]\n",
          "output_type": "stream"
        },
        {
          "name": "stdout",
          "text": "Epoch 64, Loss: 101.46090745468871\n",
          "output_type": "stream"
        },
        {
          "name": "stderr",
          "text": "100%|██████████| 313/313 [00:00<00:00, 526.85it/s]",
          "output_type": "stream"
        },
        {
          "name": "stdout",
          "text": "Epoch 65, Loss: 74.46402628962605\n",
          "output_type": "stream"
        },
        {
          "name": "stderr",
          "text": "\n",
          "output_type": "stream"
        }
      ]
    },
    {
      "cell_type": "code",
      "source": [
        "num_samples = 1500\n",
        "sample_indices = np.random.choice(len(X), num_samples, replace=False)\n",
        "sampled_data = X[sample_indices]\n",
        "sampled_labels = y.iloc[sample_indices]\n",
        "\n",
        "# 2. Prepare the data for the CVAE\n",
        "input_data = torch.tensor(sampled_data, dtype=torch.float32)\n",
        "original_labels = torch.tensor(sampled_labels.values, dtype=torch.float32)\n",
        "\n",
        "features_tensor = torch.tensor(input_data, dtype=torch.float32)\n",
        "labels_tensor = torch.tensor(original_labels, dtype=torch.float32)\n",
        "\n",
        "# Create dataset and data loader\n",
        "dataset = TensorDataset(features_tensor, labels_tensor)\n",
        "dataloader = DataLoader(dataset, batch_size=32, shuffle=True)\n",
        "\n",
        "synthetic_samples = []\n",
        "synthetic_labels = []\n",
        "\n",
        "for batch_data, batch_labels in tqdm(dataloader):\n",
        "    batch_labels = batch_labels.unsqueeze(1)\n",
        "    recon_batch, mu, log_var = vae_model(batch_data)\n",
        "    synthetic_samples.append(recon_batch)\n",
        "    synthetic_labels.append(batch_labels)\n",
        "synthetic_samples = torch.cat(synthetic_samples, dim=0)\n",
        "synthetic_labels = torch.cat(synthetic_labels, dim=0)"
      ],
      "metadata": {
        "execution": {
          "iopub.status.busy": "2024-05-05T15:06:23.390706Z",
          "iopub.execute_input": "2024-05-05T15:06:23.391136Z",
          "iopub.status.idle": "2024-05-05T15:06:23.44241Z",
          "shell.execute_reply.started": "2024-05-05T15:06:23.391104Z",
          "shell.execute_reply": "2024-05-05T15:06:23.441345Z"
        },
        "trusted": true,
        "id": "OsxqGWw0ypBa",
        "outputId": "fda3d5a6-ca86-4957-a16b-bd5b4af4a428"
      },
      "execution_count": null,
      "outputs": [
        {
          "name": "stderr",
          "text": "/tmp/ipykernel_33/512837805.py:10: UserWarning: To copy construct from a tensor, it is recommended to use sourceTensor.clone().detach() or sourceTensor.clone().detach().requires_grad_(True), rather than torch.tensor(sourceTensor).\n  features_tensor = torch.tensor(input_data, dtype=torch.float32)\n/tmp/ipykernel_33/512837805.py:11: UserWarning: To copy construct from a tensor, it is recommended to use sourceTensor.clone().detach() or sourceTensor.clone().detach().requires_grad_(True), rather than torch.tensor(sourceTensor).\n  labels_tensor = torch.tensor(original_labels, dtype=torch.float32)\n100%|██████████| 47/47 [00:00<00:00, 1557.69it/s]\n",
          "output_type": "stream"
        }
      ]
    },
    {
      "cell_type": "code",
      "source": [
        "torch.save(vae_model.state_dict(), '/kaggle/working/feature_extraction_model.pth')"
      ],
      "metadata": {
        "execution": {
          "iopub.status.busy": "2024-05-05T15:45:03.021803Z",
          "iopub.execute_input": "2024-05-05T15:45:03.022412Z",
          "iopub.status.idle": "2024-05-05T15:45:03.028043Z",
          "shell.execute_reply.started": "2024-05-05T15:45:03.022379Z",
          "shell.execute_reply": "2024-05-05T15:45:03.02688Z"
        },
        "trusted": true,
        "id": "e3OBYc5LypBb"
      },
      "execution_count": null,
      "outputs": []
    },
    {
      "cell_type": "code",
      "source": [],
      "metadata": {
        "id": "gzhaZcsWypBb"
      },
      "execution_count": null,
      "outputs": []
    },
    {
      "cell_type": "code",
      "source": [
        "synthetic_samples_np = synthetic_samples.detach().cpu().numpy()\n",
        "synthetic_labels_np = synthetic_labels.detach().cpu().numpy()\n",
        "synthetic_labels_np = np.squeeze(synthetic_labels_np)\n",
        "\n",
        "X = np.concatenate((X, synthetic_samples_np), axis=0)\n",
        "y = np.concatenate((y, synthetic_labels_np), axis=0)\n",
        "print(X.shape)\n",
        "print(y.shape)"
      ],
      "metadata": {
        "execution": {
          "iopub.status.busy": "2024-05-05T15:06:27.232673Z",
          "iopub.execute_input": "2024-05-05T15:06:27.233101Z",
          "iopub.status.idle": "2024-05-05T15:06:27.245076Z",
          "shell.execute_reply.started": "2024-05-05T15:06:27.23307Z",
          "shell.execute_reply": "2024-05-05T15:06:27.243697Z"
        },
        "trusted": true,
        "id": "d4oPH2RgypBb",
        "outputId": "ac651d18-3c18-4e9c-c926-6654112db30a"
      },
      "execution_count": null,
      "outputs": [
        {
          "name": "stdout",
          "text": "(11500, 48)\n(11500,)\n",
          "output_type": "stream"
        }
      ]
    },
    {
      "cell_type": "code",
      "source": [
        "def extract_features(model, new_data):\n",
        "  with torch.no_grad():\n",
        "    new_data_tensor = torch.tensor(new_data, dtype=torch.float32)\n",
        "    latent_features = model.encoder(new_data_tensor)\n",
        "  return latent_features[0]\n",
        "extracted_features = []\n",
        "for data_point in X:\n",
        "  latent_features = extract_features(vae_model, data_point)\n",
        "  extracted_features.append(latent_features)\n",
        "X_extracted = np.array(extracted_features)\n",
        "print(X_extracted.shape)"
      ],
      "metadata": {
        "execution": {
          "iopub.status.busy": "2024-05-05T15:06:29.326543Z",
          "iopub.execute_input": "2024-05-05T15:06:29.327788Z",
          "iopub.status.idle": "2024-05-05T15:06:30.169087Z",
          "shell.execute_reply.started": "2024-05-05T15:06:29.327723Z",
          "shell.execute_reply": "2024-05-05T15:06:30.167707Z"
        },
        "trusted": true,
        "id": "V13CUWEqypBb",
        "outputId": "17a98ab2-3c98-4e21-b9f6-dbcb94d3c980"
      },
      "execution_count": null,
      "outputs": [
        {
          "name": "stdout",
          "text": "(11500, 16)\n",
          "output_type": "stream"
        }
      ]
    },
    {
      "cell_type": "code",
      "source": [
        "print(X_extracted)"
      ],
      "metadata": {
        "execution": {
          "iopub.status.busy": "2024-05-05T15:06:31.564516Z",
          "iopub.execute_input": "2024-05-05T15:06:31.565537Z",
          "iopub.status.idle": "2024-05-05T15:06:31.572242Z",
          "shell.execute_reply.started": "2024-05-05T15:06:31.565498Z",
          "shell.execute_reply": "2024-05-05T15:06:31.570877Z"
        },
        "trusted": true,
        "id": "veBSQzPrypBb",
        "outputId": "34f1630c-a825-4519-be7f-48d567d9bab2"
      },
      "execution_count": null,
      "outputs": [
        {
          "name": "stdout",
          "text": "[[-0.6962614  -0.48135972 -0.1324688  ... -0.65026623 -1.558689\n  -0.87376964]\n [ 1.6850976   2.3672192  -1.4620941  ...  1.3632189   0.49202505\n   0.13247415]\n [ 0.3937574   1.0222331  -0.34166455 ...  0.483559    1.1307237\n   0.85962546]\n ...\n [ 5.793721    2.8989217  -3.660188   ... -2.6970627  -4.715182\n   2.6458468 ]\n [ 4.7241507   2.767317   -2.5526762  ...  2.5848608  -3.0519307\n  -1.7957351 ]\n [ 7.323647    4.1191454  -5.050773   ...  5.2162805  -1.6692485\n  -4.2648582 ]]\n",
          "output_type": "stream"
        }
      ]
    },
    {
      "cell_type": "code",
      "source": [
        "k_range = range(1, 10)  # Adjust the range based on your data\n",
        "wcss = []\n",
        "for k in k_range:\n",
        "  kmeans = KMeans(n_clusters=k, n_init='auto')\n",
        "  kmeans.fit(extracted_features)  # Replace with your extracted features\n",
        "  wcss.append(kmeans.inertia_)  # Inertia_ attribute stores WCSS\n",
        "plt.figure(figsize=(8, 6))\n",
        "plt.plot(k_range, wcss, marker='o', linestyle='-')\n",
        "plt.xlabel(\"Number of Clusters (k)\")\n",
        "plt.ylabel(\"WCSS\")\n",
        "plt.title(\"Elbow Method for K-Means Clustering\")\n",
        "plt.show()"
      ],
      "metadata": {
        "execution": {
          "iopub.status.busy": "2024-05-05T15:06:33.744659Z",
          "iopub.execute_input": "2024-05-05T15:06:33.745113Z",
          "iopub.status.idle": "2024-05-05T15:06:37.222265Z",
          "shell.execute_reply.started": "2024-05-05T15:06:33.74508Z",
          "shell.execute_reply": "2024-05-05T15:06:37.22119Z"
        },
        "trusted": true,
        "id": "dWmpfr8PypBb",
        "outputId": "1be183fe-1672-4804-9396-afb1dd4f6b44"
      },
      "execution_count": null,
      "outputs": [
        {
          "output_type": "display_data",
          "data": {
            "text/plain": "<Figure size 800x600 with 1 Axes>",
            "image/png": "[encoded data removed]"
          },
          "metadata": {}
        }
      ]
    },
    {
      "cell_type": "code",
      "source": [
        "kmeans = KMeans(n_clusters=3, n_init='auto')\n",
        "pca = PCA(n_components=2)\n",
        "reduced_features = pca.fit_transform(extracted_features)\n",
        "kmeans.fit(reduced_features)\n",
        "cluster_labels = kmeans.labels_"
      ],
      "metadata": {
        "execution": {
          "iopub.status.busy": "2024-05-05T15:07:49.241808Z",
          "iopub.execute_input": "2024-05-05T15:07:49.242198Z",
          "iopub.status.idle": "2024-05-05T15:07:49.610296Z",
          "shell.execute_reply.started": "2024-05-05T15:07:49.242167Z",
          "shell.execute_reply": "2024-05-05T15:07:49.609332Z"
        },
        "trusted": true,
        "id": "Kn7dwQK4ypBc"
      },
      "execution_count": null,
      "outputs": []
    },
    {
      "cell_type": "code",
      "source": [
        "cluster_data = {}\n",
        "for i, data_point in enumerate(reduced_features):\n",
        "    cluster = cluster_labels[i]\n",
        "    if cluster not in cluster_data:\n",
        "        cluster_data[cluster] = []\n",
        "    cluster_data[cluster].append(data_point)\n",
        "cluster_features = {cluster: np.array(data) for cluster, data in cluster_data.items()}\n",
        "\n",
        "plt.figure(figsize=(8, 6))\n",
        "for cluster, features in cluster_features.items():\n",
        "    plt.scatter(features[:, 0], features[:, 1], label=f\"Cluster {cluster}\")\n",
        "\n",
        "plt.xlabel(\"Principal Component 1\")\n",
        "plt.ylabel(\"Principal Component 2\")\n",
        "plt.title(\"K-Means Clustering Visualization (PCA Reduced)\")\n",
        "plt.legend()\n",
        "plt.show()"
      ],
      "metadata": {
        "execution": {
          "iopub.status.busy": "2024-05-05T15:07:50.242946Z",
          "iopub.execute_input": "2024-05-05T15:07:50.245147Z",
          "iopub.status.idle": "2024-05-05T15:07:50.727261Z",
          "shell.execute_reply.started": "2024-05-05T15:07:50.245093Z",
          "shell.execute_reply": "2024-05-05T15:07:50.726424Z"
        },
        "trusted": true,
        "id": "pUonA2m-ypBc",
        "outputId": "333ef111-a103-4ddf-8804-37cbba75c599"
      },
      "execution_count": null,
      "outputs": [
        {
          "output_type": "display_data",
          "data": {
            "text/plain": "<Figure size 800x600 with 1 Axes>",
            "image/png": "[encoded data removed]"
          },
          "metadata": {}
        }
      ]
    },
    {
      "cell_type": "code",
      "source": [
        "silhouette_score(reduced_features, cluster_labels)"
      ],
      "metadata": {
        "execution": {
          "iopub.status.busy": "2024-05-05T15:07:53.588863Z",
          "iopub.execute_input": "2024-05-05T15:07:53.589276Z",
          "iopub.status.idle": "2024-05-05T15:07:55.426127Z",
          "shell.execute_reply.started": "2024-05-05T15:07:53.589246Z",
          "shell.execute_reply": "2024-05-05T15:07:55.424786Z"
        },
        "trusted": true,
        "id": "I__DK8bmypBc",
        "outputId": "e5b1be17-6098-4501-c89d-e78d32d3f3a2"
      },
      "execution_count": null,
      "outputs": [
        {
          "execution_count": 17,
          "output_type": "execute_result",
          "data": {
            "text/plain": "0.3753982824136844"
          },
          "metadata": {}
        }
      ]
    },
    {
      "cell_type": "code",
      "source": [
        "X_train, X_test, y_train, y_test = train_test_split(X_extracted, y, test_size=0.25, random_state=42)\n",
        "print(X_train.shape, y_train.shape, X_test.shape, y_test.shape)"
      ],
      "metadata": {
        "execution": {
          "iopub.status.busy": "2024-05-05T15:07:57.423292Z",
          "iopub.execute_input": "2024-05-05T15:07:57.423943Z",
          "iopub.status.idle": "2024-05-05T15:07:57.434143Z",
          "shell.execute_reply.started": "2024-05-05T15:07:57.423905Z",
          "shell.execute_reply": "2024-05-05T15:07:57.432693Z"
        },
        "trusted": true,
        "id": "te0advD5ypBc",
        "outputId": "35b1dc36-dd04-4a1c-9174-d11dbf542e75"
      },
      "execution_count": null,
      "outputs": [
        {
          "name": "stdout",
          "text": "(8625, 16) (8625,) (2875, 16) (2875,)\n",
          "output_type": "stream"
        }
      ]
    },
    {
      "cell_type": "code",
      "source": [
        "import torch\n",
        "import torch.nn as nn\n",
        "import torch.nn.functional as F\n",
        "\n",
        "class ResNeXtBlock(nn.Module):\n",
        "    def __init__(self, in_channels, out_channels, cardinality):\n",
        "        super(ResNeXtBlock, self).__init__()\n",
        "        self.cardinality = cardinality\n",
        "        self.conv1x1_layers = nn.ModuleList([nn.Conv1d(out_channels, out_channels, kernel_size=1) for _ in range(cardinality)])\n",
        "        self.bn_layers = nn.ModuleList([nn.BatchNorm1d(out_channels) for _ in range(cardinality)])\n",
        "\n",
        "    def forward(self, x):\n",
        "        outputs = []\n",
        "        for i in range(self.cardinality):\n",
        "            out = self.conv1x1_layers[i](x)\n",
        "            out = self.bn_layers[i](out)\n",
        "            out = F.relu(out)\n",
        "            outputs.append(out)\n",
        "        return torch.cat(outputs, dim=1)\n",
        "\n",
        "class ResNeXtGRU(nn.Module):\n",
        "    def __init__(self, input_size, hidden_size, num_classes, cardinality=16):\n",
        "        super(ResNeXtGRU, self).__init__()\n",
        "        self.conv1 = nn.Conv1d(in_channels=1, out_channels=64, kernel_size=3, padding=1)\n",
        "        self.bn1 = nn.BatchNorm1d(64)\n",
        "        self.relu = nn.ReLU(inplace=True)\n",
        "        self.block1 = ResNeXtBlock(64, 64, cardinality)\n",
        "        self.gru = nn.GRU(input_size=64 * cardinality, hidden_size=hidden_size, num_layers=1, batch_first=True)\n",
        "        self.fc = nn.Linear(hidden_size, num_classes)\n",
        "\n",
        "    def forward(self, x):\n",
        "        out = self.conv1(x)\n",
        "        out = self.bn1(out)\n",
        "        out = self.relu(out)\n",
        "        out = self.block1(out)\n",
        "        out = out.permute(0, 2, 1)  # Change dimensions for GRU\n",
        "        out, _ = self.gru(out)\n",
        "        out = out[:, -1, :]  # Take only the last timestep's output\n",
        "        out = self.fc(out)\n",
        "        return out\n",
        "\n",
        "# Example usage:\n",
        "input_size = 16  # Number of input features\n",
        "hidden_size = 128  # Size of the hidden state in GRU\n",
        "num_classes = 2  # Number of output classes\n",
        "model = ResNeXtGRU(input_size, hidden_size, num_classes)\n",
        "print(model)"
      ],
      "metadata": {
        "execution": {
          "iopub.status.busy": "2024-05-05T15:08:00.582666Z",
          "iopub.execute_input": "2024-05-05T15:08:00.583107Z",
          "iopub.status.idle": "2024-05-05T15:08:00.615772Z",
          "shell.execute_reply.started": "2024-05-05T15:08:00.583073Z",
          "shell.execute_reply": "2024-05-05T15:08:00.614636Z"
        },
        "trusted": true,
        "id": "IeC8vtGRypBc",
        "outputId": "bad88235-493a-4f80-8934-00136eb26903"
      },
      "execution_count": null,
      "outputs": [
        {
          "name": "stdout",
          "text": "ResNeXtGRU(\n  (conv1): Conv1d(1, 64, kernel_size=(3,), stride=(1,), padding=(1,))\n  (bn1): BatchNorm1d(64, eps=1e-05, momentum=0.1, affine=True, track_running_stats=True)\n  (relu): ReLU(inplace=True)\n  (block1): ResNeXtBlock(\n    (conv1x1_layers): ModuleList(\n      (0-15): 16 x Conv1d(64, 64, kernel_size=(1,), stride=(1,))\n    )\n    (bn_layers): ModuleList(\n      (0-15): 16 x BatchNorm1d(64, eps=1e-05, momentum=0.1, affine=True, track_running_stats=True)\n    )\n  )\n  (gru): GRU(1024, 128, batch_first=True)\n  (fc): Linear(in_features=128, out_features=2, bias=True)\n)\n",
          "output_type": "stream"
        }
      ]
    },
    {
      "cell_type": "code",
      "source": [
        "import torch\n",
        "import torch.nn as nn\n",
        "from torch.utils.data import DataLoader, TensorDataset\n",
        "\n",
        "X_train_tensor = torch.tensor(X_train, dtype=torch.float32)\n",
        "y_train_tensor = torch.tensor(y_train, dtype=torch.long)\n",
        "X_val_tensor = torch.tensor(X_test, dtype=torch.float32)\n",
        "y_val_tensor = torch.tensor(y_test, dtype=torch.long)\n",
        "\n",
        "criterion = nn.CrossEntropyLoss()\n",
        "optimizer = optim.Adam(model.parameters(), lr=0.001)\n",
        "\n",
        "batch_size = 64\n",
        "num_epochs = 200\n",
        "\n",
        "X_train_tensor = X_train_tensor.unsqueeze(1)\n",
        "\n",
        "train_dataset = TensorDataset(X_train_tensor, y_train_tensor)\n",
        "train_loader = DataLoader(train_dataset, batch_size=batch_size, shuffle=True)\n",
        "val_dataset = TensorDataset(X_val_tensor, y_val_tensor)\n",
        "val_loader = DataLoader(val_dataset, batch_size=batch_size)\n",
        "\n",
        "# Training loop\n",
        "model.train()\n",
        "for epoch in range(num_epochs):\n",
        "    running_loss = 0.0\n",
        "    correct = 0\n",
        "    total = 0\n",
        "    for i, (inputs, labels) in enumerate(train_loader):\n",
        "        optimizer.zero_grad()  # Zero the parameter gradients\n",
        "\n",
        "        # Forward pass\n",
        "        outputs = model(inputs)\n",
        "        loss = criterion(outputs, labels)\n",
        "\n",
        "        # Backward pass and optimize\n",
        "        loss.backward()\n",
        "        optimizer.step()\n",
        "\n",
        "        # Update statistics\n",
        "        running_loss += loss.item()\n",
        "        _, predicted = torch.max(outputs, 1)\n",
        "        total += labels.size(0)\n",
        "        correct += (predicted == labels).sum().item()\n",
        "\n",
        "        # Print statistics every few iterations\n",
        "        if i % 118 == 117:\n",
        "            avg_loss = running_loss / 100\n",
        "            accuracy = (correct / total) * 100\n",
        "            print(f'Epoch [{epoch+1}/{num_epochs}],'f'Loss: {avg_loss:.4f}, Accuracy: {accuracy:.2f}%')\n",
        "            running_loss = 0.0\n",
        "            correct = 0\n",
        "            total = 0\n",
        "\n",
        "# After training completes, you can print the final accuracy on the training data\n",
        "train_accuracy = (correct / total) * 100\n",
        "print(f'Training Accuracy: {train_accuracy:.2f}%')"
      ],
      "metadata": {
        "execution": {
          "iopub.status.busy": "2024-05-05T15:08:14.380723Z",
          "iopub.execute_input": "2024-05-05T15:08:14.381988Z",
          "iopub.status.idle": "2024-05-05T15:42:02.34012Z",
          "shell.execute_reply.started": "2024-05-05T15:08:14.381946Z",
          "shell.execute_reply": "2024-05-05T15:42:02.338975Z"
        },
        "trusted": true,
        "id": "5czCLbNlypBc",
        "outputId": "a4237b3c-c188-479d-a76d-2a6a4beca292"
      },
      "execution_count": null,
      "outputs": [
        {
          "name": "stdout",
          "text": "Epoch [1/200],Loss: 0.4205, Accuracy: 84.81%\nEpoch [2/200],Loss: 0.3523, Accuracy: 87.33%\nEpoch [3/200],Loss: 0.3176, Accuracy: 88.81%\nEpoch [4/200],Loss: 0.2907, Accuracy: 89.71%\nEpoch [5/200],Loss: 0.2720, Accuracy: 90.85%\nEpoch [6/200],Loss: 0.2561, Accuracy: 91.14%\nEpoch [7/200],Loss: 0.2468, Accuracy: 91.64%\nEpoch [9/200],Loss: 0.2176, Accuracy: 92.48%\nEpoch [10/200],Loss: 0.2015, Accuracy: 92.98%\nEpoch [11/200],Loss: 0.2000, Accuracy: 93.14%\nEpoch [12/200],Loss: 0.1905, Accuracy: 93.41%\nEpoch [13/200],Loss: 0.1751, Accuracy: 93.98%\nEpoch [14/200],Loss: 0.1615, Accuracy: 94.44%\nEpoch [15/200],Loss: 0.1673, Accuracy: 94.15%\nEpoch [16/200],Loss: 0.1549, Accuracy: 94.48%\nEpoch [17/200],Loss: 0.1516, Accuracy: 94.81%\nEpoch [18/200],Loss: 0.1289, Accuracy: 95.62%\nEpoch [19/200],Loss: 0.1185, Accuracy: 96.11%\nEpoch [20/200],Loss: 0.1386, Accuracy: 95.15%\nEpoch [21/200],Loss: 0.1219, Accuracy: 95.90%\nEpoch [22/200],Loss: 0.1162, Accuracy: 96.16%\nEpoch [23/200],Loss: 0.0975, Accuracy: 96.78%\nEpoch [24/200],Loss: 0.0990, Accuracy: 96.82%\nEpoch [25/200],Loss: 0.0974, Accuracy: 96.72%\nEpoch [26/200],Loss: 0.1040, Accuracy: 96.48%\nEpoch [27/200],Loss: 0.0933, Accuracy: 96.97%\nEpoch [28/200],Loss: 0.0840, Accuracy: 97.17%\nEpoch [29/200],Loss: 0.0813, Accuracy: 97.18%\nEpoch [30/200],Loss: 0.0753, Accuracy: 97.55%\nEpoch [31/200],Loss: 0.0789, Accuracy: 97.29%\nEpoch [32/200],Loss: 0.0815, Accuracy: 97.33%\nEpoch [33/200],Loss: 0.0768, Accuracy: 97.56%\nEpoch [34/200],Loss: 0.0703, Accuracy: 97.89%\nEpoch [35/200],Loss: 0.0676, Accuracy: 97.85%\nEpoch [36/200],Loss: 0.0673, Accuracy: 97.64%\nEpoch [37/200],Loss: 0.0661, Accuracy: 97.99%\nEpoch [38/200],Loss: 0.0704, Accuracy: 97.75%\nEpoch [39/200],Loss: 0.0685, Accuracy: 97.79%\nEpoch [40/200],Loss: 0.0677, Accuracy: 97.99%\nEpoch [41/200],Loss: 0.0623, Accuracy: 98.03%\nEpoch [42/200],Loss: 0.0479, Accuracy: 98.60%\nEpoch [43/200],Loss: 0.0539, Accuracy: 98.31%\nEpoch [44/200],Loss: 0.0431, Accuracy: 98.64%\nEpoch [45/200],Loss: 0.0552, Accuracy: 98.11%\nEpoch [46/200],Loss: 0.0571, Accuracy: 98.15%\nEpoch [47/200],Loss: 0.0447, Accuracy: 98.61%\nEpoch [48/200],Loss: 0.0406, Accuracy: 98.83%\nEpoch [49/200],Loss: 0.0450, Accuracy: 98.68%\nEpoch [50/200],Loss: 0.0439, Accuracy: 98.69%\nEpoch [51/200],Loss: 0.0444, Accuracy: 98.60%\nEpoch [52/200],Loss: 0.0411, Accuracy: 98.74%\nEpoch [53/200],Loss: 0.0399, Accuracy: 98.70%\nEpoch [54/200],Loss: 0.0372, Accuracy: 98.81%\nEpoch [55/200],Loss: 0.0326, Accuracy: 99.07%\nEpoch [56/200],Loss: 0.0390, Accuracy: 98.73%\nEpoch [57/200],Loss: 0.0458, Accuracy: 98.54%\nEpoch [58/200],Loss: 0.0475, Accuracy: 98.57%\nEpoch [59/200],Loss: 0.0544, Accuracy: 98.31%\nEpoch [60/200],Loss: 0.0397, Accuracy: 98.70%\nEpoch [61/200],Loss: 0.0363, Accuracy: 99.03%\nEpoch [62/200],Loss: 0.0408, Accuracy: 98.70%\nEpoch [63/200],Loss: 0.0350, Accuracy: 98.86%\nEpoch [64/200],Loss: 0.0361, Accuracy: 98.89%\nEpoch [65/200],Loss: 0.0408, Accuracy: 98.70%\nEpoch [66/200],Loss: 0.0310, Accuracy: 99.02%\nEpoch [67/200],Loss: 0.0337, Accuracy: 98.89%\nEpoch [68/200],Loss: 0.0309, Accuracy: 98.98%\nEpoch [69/200],Loss: 0.0352, Accuracy: 98.82%\nEpoch [70/200],Loss: 0.0289, Accuracy: 99.13%\nEpoch [71/200],Loss: 0.0251, Accuracy: 99.31%\nEpoch [72/200],Loss: 0.0247, Accuracy: 99.31%\nEpoch [73/200],Loss: 0.0354, Accuracy: 99.02%\nEpoch [74/200],Loss: 0.0543, Accuracy: 98.37%\nEpoch [75/200],Loss: 0.0310, Accuracy: 98.99%\nEpoch [76/200],Loss: 0.0315, Accuracy: 99.09%\nEpoch [77/200],Loss: 0.0415, Accuracy: 98.74%\nEpoch [78/200],Loss: 0.0402, Accuracy: 98.81%\nEpoch [79/200],Loss: 0.0297, Accuracy: 99.13%\nEpoch [80/200],Loss: 0.0243, Accuracy: 99.31%\nEpoch [81/200],Loss: 0.0253, Accuracy: 99.27%\nEpoch [82/200],Loss: 0.0300, Accuracy: 99.21%\nEpoch [83/200],Loss: 0.0262, Accuracy: 99.14%\nEpoch [84/200],Loss: 0.0221, Accuracy: 99.34%\nEpoch [85/200],Loss: 0.0233, Accuracy: 99.32%\nEpoch [86/200],Loss: 0.0227, Accuracy: 99.34%\nEpoch [87/200],Loss: 0.0188, Accuracy: 99.51%\nEpoch [88/200],Loss: 0.0128, Accuracy: 99.71%\nEpoch [89/200],Loss: 0.0132, Accuracy: 99.68%\nEpoch [90/200],Loss: 0.0178, Accuracy: 99.58%\nEpoch [91/200],Loss: 0.0301, Accuracy: 99.11%\nEpoch [92/200],Loss: 0.0297, Accuracy: 99.10%\nEpoch [93/200],Loss: 0.0271, Accuracy: 99.27%\nEpoch [94/200],Loss: 0.0318, Accuracy: 99.10%\nEpoch [95/200],Loss: 0.0257, Accuracy: 99.25%\nEpoch [96/200],Loss: 0.0245, Accuracy: 99.32%\nEpoch [97/200],Loss: 0.0197, Accuracy: 99.51%\nEpoch [98/200],Loss: 0.0223, Accuracy: 99.42%\nEpoch [99/200],Loss: 0.0206, Accuracy: 99.32%\nEpoch [100/200],Loss: 0.0271, Accuracy: 99.09%\nEpoch [101/200],Loss: 0.0291, Accuracy: 99.03%\nEpoch [102/200],Loss: 0.0255, Accuracy: 99.26%\nEpoch [103/200],Loss: 0.0311, Accuracy: 99.11%\nEpoch [104/200],Loss: 0.0301, Accuracy: 99.07%\nEpoch [105/200],Loss: 0.0278, Accuracy: 99.18%\nEpoch [106/200],Loss: 0.0310, Accuracy: 99.05%\nEpoch [107/200],Loss: 0.0261, Accuracy: 99.18%\nEpoch [108/200],Loss: 0.0188, Accuracy: 99.47%\nEpoch [109/200],Loss: 0.0190, Accuracy: 99.51%\nEpoch [110/200],Loss: 0.0149, Accuracy: 99.48%\nEpoch [111/200],Loss: 0.0155, Accuracy: 99.52%\nEpoch [112/200],Loss: 0.0187, Accuracy: 99.59%\nEpoch [113/200],Loss: 0.0166, Accuracy: 99.51%\nEpoch [114/200],Loss: 0.0303, Accuracy: 99.15%\nEpoch [115/200],Loss: 0.0233, Accuracy: 99.38%\nEpoch [116/200],Loss: 0.0203, Accuracy: 99.38%\nEpoch [117/200],Loss: 0.0137, Accuracy: 99.64%\nEpoch [118/200],Loss: 0.0156, Accuracy: 99.55%\nEpoch [119/200],Loss: 0.0203, Accuracy: 99.34%\nEpoch [120/200],Loss: 0.0134, Accuracy: 99.63%\nEpoch [121/200],Loss: 0.0158, Accuracy: 99.56%\nEpoch [122/200],Loss: 0.0180, Accuracy: 99.58%\nEpoch [123/200],Loss: 0.0165, Accuracy: 99.52%\nEpoch [124/200],Loss: 0.0157, Accuracy: 99.58%\nEpoch [125/200],Loss: 0.0213, Accuracy: 99.51%\nEpoch [126/200],Loss: 0.0344, Accuracy: 98.90%\nEpoch [127/200],Loss: 0.0340, Accuracy: 98.91%\nEpoch [128/200],Loss: 0.0283, Accuracy: 99.11%\nEpoch [129/200],Loss: 0.0260, Accuracy: 99.28%\nEpoch [130/200],Loss: 0.0159, Accuracy: 99.47%\nEpoch [131/200],Loss: 0.0147, Accuracy: 99.55%\nEpoch [132/200],Loss: 0.0122, Accuracy: 99.66%\nEpoch [133/200],Loss: 0.0155, Accuracy: 99.58%\nEpoch [134/200],Loss: 0.0117, Accuracy: 99.70%\nEpoch [135/200],Loss: 0.0198, Accuracy: 99.47%\nEpoch [136/200],Loss: 0.0173, Accuracy: 99.58%\nEpoch [137/200],Loss: 0.0153, Accuracy: 99.52%\nEpoch [138/200],Loss: 0.0143, Accuracy: 99.60%\nEpoch [139/200],Loss: 0.0171, Accuracy: 99.54%\nEpoch [140/200],Loss: 0.0314, Accuracy: 98.99%\nEpoch [141/200],Loss: 0.0327, Accuracy: 99.05%\nEpoch [142/200],Loss: 0.0251, Accuracy: 99.32%\nEpoch [143/200],Loss: 0.0202, Accuracy: 99.39%\nEpoch [144/200],Loss: 0.0219, Accuracy: 99.30%\nEpoch [145/200],Loss: 0.0183, Accuracy: 99.43%\nEpoch [146/200],Loss: 0.0151, Accuracy: 99.59%\nEpoch [147/200],Loss: 0.0138, Accuracy: 99.55%\nEpoch [148/200],Loss: 0.0138, Accuracy: 99.62%\nEpoch [149/200],Loss: 0.0108, Accuracy: 99.72%\nEpoch [150/200],Loss: 0.0165, Accuracy: 99.44%\nEpoch [151/200],Loss: 0.0192, Accuracy: 99.43%\nEpoch [152/200],Loss: 0.0110, Accuracy: 99.70%\nEpoch [153/200],Loss: 0.0142, Accuracy: 99.58%\nEpoch [154/200],Loss: 0.0148, Accuracy: 99.55%\nEpoch [155/200],Loss: 0.0271, Accuracy: 99.14%\nEpoch [156/200],Loss: 0.0371, Accuracy: 98.99%\nEpoch [157/200],Loss: 0.0277, Accuracy: 99.18%\nEpoch [158/200],Loss: 0.0126, Accuracy: 99.70%\nEpoch [159/200],Loss: 0.0102, Accuracy: 99.80%\nEpoch [160/200],Loss: 0.0067, Accuracy: 99.85%\nEpoch [161/200],Loss: 0.0070, Accuracy: 99.81%\nEpoch [162/200],Loss: 0.0092, Accuracy: 99.75%\nEpoch [163/200],Loss: 0.0137, Accuracy: 99.60%\nEpoch [164/200],Loss: 0.0133, Accuracy: 99.68%\nEpoch [165/200],Loss: 0.0146, Accuracy: 99.55%\nEpoch [166/200],Loss: 0.0191, Accuracy: 99.36%\nEpoch [167/200],Loss: 0.0185, Accuracy: 99.50%\nEpoch [168/200],Loss: 0.0192, Accuracy: 99.39%\nEpoch [169/200],Loss: 0.0243, Accuracy: 99.28%\nEpoch [170/200],Loss: 0.0158, Accuracy: 99.60%\nEpoch [171/200],Loss: 0.0104, Accuracy: 99.74%\nEpoch [172/200],Loss: 0.0118, Accuracy: 99.76%\nEpoch [173/200],Loss: 0.0116, Accuracy: 99.77%\nEpoch [174/200],Loss: 0.0084, Accuracy: 99.77%\nEpoch [175/200],Loss: 0.0071, Accuracy: 99.84%\nEpoch [176/200],Loss: 0.0165, Accuracy: 99.54%\nEpoch [177/200],Loss: 0.0273, Accuracy: 99.27%\nEpoch [178/200],Loss: 0.0183, Accuracy: 99.50%\nEpoch [179/200],Loss: 0.0206, Accuracy: 99.27%\nEpoch [180/200],Loss: 0.0179, Accuracy: 99.43%\nEpoch [181/200],Loss: 0.0161, Accuracy: 99.48%\nEpoch [182/200],Loss: 0.0142, Accuracy: 99.54%\nEpoch [183/200],Loss: 0.0135, Accuracy: 99.56%\nEpoch [184/200],Loss: 0.0199, Accuracy: 99.46%\nEpoch [185/200],Loss: 0.0130, Accuracy: 99.63%\nEpoch [186/200],Loss: 0.0144, Accuracy: 99.59%\nEpoch [187/200],Loss: 0.0096, Accuracy: 99.75%\nEpoch [188/200],Loss: 0.0072, Accuracy: 99.77%\nEpoch [189/200],Loss: 0.0081, Accuracy: 99.81%\nEpoch [190/200],Loss: 0.0191, Accuracy: 99.40%\nEpoch [191/200],Loss: 0.0129, Accuracy: 99.67%\nEpoch [192/200],Loss: 0.0159, Accuracy: 99.52%\nEpoch [193/200],Loss: 0.0184, Accuracy: 99.39%\nEpoch [194/200],Loss: 0.0188, Accuracy: 99.51%\nEpoch [195/200],Loss: 0.0206, Accuracy: 99.44%\nEpoch [196/200],Loss: 0.0116, Accuracy: 99.63%\nEpoch [197/200],Loss: 0.0127, Accuracy: 99.63%\nEpoch [198/200],Loss: 0.0156, Accuracy: 99.52%\nEpoch [199/200],Loss: 0.0150, Accuracy: 99.54%\nEpoch [200/200],Loss: 0.0130, Accuracy: 99.60%\nTraining Accuracy: 99.44%\n",
          "output_type": "stream"
        }
      ]
    },
    {
      "cell_type": "code",
      "source": [
        "model.eval()\n",
        "val_loss = 0.0\n",
        "correct = 0\n",
        "total = 0\n",
        "with torch.no_grad():\n",
        "    for inputs, labels in val_loader:\n",
        "        inputs = inputs.unsqueeze(1)\n",
        "        outputs = model(inputs)\n",
        "        loss = criterion(outputs, labels)\n",
        "        val_loss += loss.item()\n",
        "        _, predicted = torch.max(outputs, 1)\n",
        "        total += labels.size(0)\n",
        "        correct += (predicted == labels).sum().item()\n",
        "\n",
        "    # Print statistics\n",
        "print(f'Accuracy: {(correct/total)*100:.2f}%')"
      ],
      "metadata": {
        "execution": {
          "iopub.status.busy": "2024-05-05T10:04:39.214597Z",
          "iopub.execute_input": "2024-05-05T10:04:39.216017Z",
          "iopub.status.idle": "2024-05-05T10:04:40.412187Z",
          "shell.execute_reply.started": "2024-05-05T10:04:39.215968Z",
          "shell.execute_reply": "2024-05-05T10:04:40.41104Z"
        },
        "trusted": true,
        "id": "ESXIqaPCypBd",
        "outputId": "e3b36c47-1a64-40e7-bb43-afb6463580a6"
      },
      "execution_count": null,
      "outputs": [
        {
          "name": "stdout",
          "text": "Accuracy: 91.83%\n",
          "output_type": "stream"
        }
      ]
    },
    {
      "cell_type": "code",
      "source": [
        "import numpy as np\n",
        "import torch\n",
        "from sklearn.metrics import confusion_matrix, precision_score, recall_score, f1_score\n",
        "import seaborn as sns\n",
        "import matplotlib.pyplot as plt\n",
        "\n",
        "# Set model to evaluation mode\n",
        "model.eval()\n",
        "\n",
        "val_loss = 0.0\n",
        "correct = 0\n",
        "total = 0\n",
        "predicted_all = []\n",
        "labels_all = []\n",
        "\n",
        "# Confusion matrix\n",
        "conf_matrix = np.zeros((num_classes, num_classes))\n",
        "\n",
        "with torch.no_grad():\n",
        "    for inputs, labels in val_loader:\n",
        "        inputs = inputs.unsqueeze(1)\n",
        "        outputs = model(inputs)\n",
        "        loss = criterion(outputs, labels)\n",
        "        val_loss += loss.item()\n",
        "        _, predicted = torch.max(outputs, 1)\n",
        "        total += labels.size(0)\n",
        "        correct += (predicted == labels).sum().item()\n",
        "\n",
        "        # Collect predictions and labels for confusion matrix\n",
        "        predicted_all.extend(predicted.tolist())\n",
        "        labels_all.extend(labels.tolist())\n",
        "\n",
        "    # Compute precision, recall, and F1 score\n",
        "    precision = precision_score(labels_all, predicted_all, average='weighted')\n",
        "    recall = recall_score(labels_all, predicted_all, average='weighted')\n",
        "    f1 = f1_score(labels_all, predicted_all, average='weighted')\n",
        "\n",
        "    # Compute confusion matrix\n",
        "    conf_matrix = confusion_matrix(labels_all, predicted_all)\n",
        "\n",
        "# Print statistics\n",
        "print(f'Accuracy: {(correct / total) * 100:.2f}%')\n",
        "print(f'Precision: {precision:.2f}')\n",
        "print(f'Recall: {recall:.2f}')\n",
        "print(f'F1 Score: {f1:.2f}')\n",
        "\n",
        "# Print confusion matrix as a colorful table\n",
        "plt.figure(figsize=(10, 8))\n",
        "sns.set(font_scale=1.2)  # for label size\n",
        "sns.heatmap(conf_matrix, annot=True, fmt=\"d\", cmap=\"Blues\", annot_kws={\"size\": 12})  # font size\n",
        "plt.xlabel('Predicted', fontsize=14)\n",
        "plt.ylabel('True', fontsize=14)\n",
        "plt.title('Confusion Matrix', fontsize=16)\n",
        "plt.show()\n"
      ],
      "metadata": {
        "execution": {
          "iopub.status.busy": "2024-05-05T15:42:39.759895Z",
          "iopub.execute_input": "2024-05-05T15:42:39.760286Z",
          "iopub.status.idle": "2024-05-05T15:42:41.377102Z",
          "shell.execute_reply.started": "2024-05-05T15:42:39.760257Z",
          "shell.execute_reply": "2024-05-05T15:42:41.375941Z"
        },
        "trusted": true,
        "id": "xTzY2neKypBd",
        "outputId": "d222aa02-2a2a-4890-c523-de76a6f9ac8b"
      },
      "execution_count": null,
      "outputs": [
        {
          "name": "stdout",
          "text": "Accuracy: 91.44%\nPrecision: 0.91\nRecall: 0.91\nF1 Score: 0.91\n",
          "output_type": "stream"
        },
        {
          "output_type": "display_data",
          "data": {
            "text/plain": "<Figure size 1000x800 with 2 Axes>",
            "image/png": "[encoded data removed]"
          },
          "metadata": {}
        }
      ]
    },
    {
      "cell_type": "code",
      "source": [
        "torch.save(model.state_dict(), '/kaggle/working/final_model.pth')"
      ],
      "metadata": {
        "execution": {
          "iopub.status.busy": "2024-05-05T15:44:15.930173Z",
          "iopub.execute_input": "2024-05-05T15:44:15.930603Z",
          "iopub.status.idle": "2024-05-05T15:44:15.951089Z",
          "shell.execute_reply.started": "2024-05-05T15:44:15.930567Z",
          "shell.execute_reply": "2024-05-05T15:44:15.950013Z"
        },
        "trusted": true,
        "id": "ZPJfICHIypBd"
      },
      "execution_count": null,
      "outputs": []
    },
    {
      "cell_type": "code",
      "source": [
        "import torch\n",
        "import torch.nn as nn\n",
        "from torch.utils.data import DataLoader, TensorDataset\n",
        "\n",
        "# Assuming model, X_train, X_test, y_train, y_test are defined previously\n",
        "\n",
        "X_train_tensor = torch.tensor(X_train, dtype=torch.float32)\n",
        "y_train_tensor = torch.tensor(y_train, dtype=torch.long)\n",
        "X_val_tensor = torch.tensor(X_test, dtype=torch.float32)\n",
        "y_val_tensor = torch.tensor(y_test.to_numpy(), dtype=torch.long)\n",
        "\n",
        "X_train_tensor = X_train_tensor.unsqueeze(1)\n",
        "\n",
        "criterion = nn.CrossEntropyLoss()\n",
        "\n",
        "batch_size = 64\n",
        "num_epochs = 3\n",
        "\n",
        "train_dataset = TensorDataset(X_train_tensor, y_train_tensor)\n",
        "train_loader = DataLoader(train_dataset, batch_size=batch_size, shuffle=True)\n",
        "val_dataset = TensorDataset(X_val_tensor, y_val_tensor)\n",
        "val_loader = DataLoader(val_dataset, batch_size=batch_size)\n",
        "\n",
        "def evaluate_loss(params):\n",
        "    data, target = next(iter(train_loader))\n",
        "    output = model(data)\n",
        "    loss = criterion(output, target)\n",
        "    return loss.item()  # Return the scalar value of the loss\n",
        "\n",
        "# Define lower and upper bounds for JayaOptimizer\n",
        "lower_bound = np.array([-1000] * 512386)\n",
        "upper_bound = np.array([1000] * 512386)\n",
        "\n",
        "# Initialize the JayaOptimizer\n",
        "optimizer = JayaOptimizer(f=evaluate_loss, lower_bound=lower_bound, upper_bound=upper_bound)\n",
        "\n",
        "# Training loop\n",
        "for epoch in range(num_epochs):\n",
        "    model.train()  # Set model to training mode\n",
        "    for i, (data, target) in enumerate(train_loader):\n",
        "        new_params = optimizer.next()[0]  # Update JayaOptimizer's population and fitness\n",
        "        # Forward pass\n",
        "        output = model(data)\n",
        "        loss = criterion(output, target)\n",
        "        total_param_size = sum(p.numel() for p in model.parameters())\n",
        "        new_params = new_params.reshape(total_param_size)\n",
        "        start = 0\n",
        "        for param in model.parameters():\n",
        "          param_update = torch.tensor(new_params[start:start + param.numel()]).view(param.shape)  # Create tensor\n",
        "          # print(\"Before update:\", param.data)\n",
        "          # print(\"Updated: \", param_update)\n",
        "          param.data.copy_(param_update)  # Update parameter tensor's data attribute\n",
        "          # print(\"After update:\", param.data)\n",
        "          start += param.numel()\n",
        "        # print(i,\" \",data.shape)\n",
        "        if (i + 1) % len(train_loader) == 0:  # Print every epoch\n",
        "            print(model.parameters())\n",
        "            print(f'Epoch [{epoch+1}/{num_epochs}], Step [{i+1}/{len(train_loader)}]: Loss: {loss.item():.4f}')"
      ],
      "metadata": {
        "execution": {
          "iopub.execute_input": "2024-05-01T15:36:25.286008Z",
          "iopub.status.busy": "2024-05-01T15:36:25.285566Z",
          "iopub.status.idle": "2024-05-01T15:39:39.992555Z",
          "shell.execute_reply": "2024-05-01T15:39:39.99106Z",
          "shell.execute_reply.started": "2024-05-01T15:36:25.285972Z"
        },
        "id": "bwZYf1dQypBd"
      },
      "execution_count": null,
      "outputs": []
    },
    {
      "cell_type": "code",
      "source": [
        "model.eval()\n",
        "val_loss = 0.0\n",
        "correct = 0\n",
        "total = 0\n",
        "with torch.no_grad():\n",
        "    for inputs, labels in val_loader:\n",
        "        inputs = inputs.unsqueeze(1)\n",
        "        outputs = model(inputs)\n",
        "        loss = criterion(outputs, labels)\n",
        "        val_loss += loss.item()\n",
        "        _, predicted = torch.max(outputs, 1)\n",
        "        total += labels.size(0)\n",
        "        correct += (predicted == labels).sum().item()\n",
        "\n",
        "    # Print statistics\n",
        "print(f'Accuracy: {(correct/total)*100:.2f}%')"
      ],
      "metadata": {
        "execution": {
          "iopub.execute_input": "2024-05-01T15:40:02.815956Z",
          "iopub.status.busy": "2024-05-01T15:40:02.815456Z",
          "iopub.status.idle": "2024-05-01T15:40:03.874668Z",
          "shell.execute_reply": "2024-05-01T15:40:03.872373Z",
          "shell.execute_reply.started": "2024-05-01T15:40:02.815918Z"
        },
        "id": "3KY0nygDypBd"
      },
      "execution_count": null,
      "outputs": []
    },
    {
      "cell_type": "code",
      "source": [
        "import pandas as pd\n",
        "import numpy as np\n",
        "import re\n",
        "from urllib.parse import urlparse\n",
        "from scipy.stats import mode\n",
        "from sklearn.neighbors import KNeighborsClassifier\n",
        "\n",
        "SENSITIVE_WORDS = ['secure', 'account', 'webscr', 'login',\n",
        "'ebayisapi', 'signin', 'banking', 'confirm']\n",
        "\n",
        "def count_sensitive_words(url):\n",
        "    num_sensitive_words = 0\n",
        "    for word in SENSITIVE_WORDS:\n",
        "        if word in url.lower():\n",
        "            num_sensitive_words += 1\n",
        "    return num_sensitive_words\n",
        "\n",
        "def extract_features_from_url(url):\n",
        "    features = {}\n",
        "    parsed_url = urlparse(url)\n",
        "\n",
        "    # Feature extraction\n",
        "    features[0] = url.count('.')\n",
        "    features[1] = url.count('.') - 1\n",
        "    features[2] = url.count('/')-2\n",
        "    features[3] = len(url)\n",
        "    features[4] = url.count('-')\n",
        "    features[5] = parsed_url.netloc.count('-')\n",
        "    features[6] = url.count('@')\n",
        "    features[7] = url.count('~')\n",
        "    features[8] = url.count('_')\n",
        "    features[9] = url.count('%')\n",
        "    features[10] = len(parsed_url.query.split('&'))\n",
        "    features[11] = url.count('&')\n",
        "    features[12] = url.count('#')\n",
        "    features[13] = sum(c.isdigit() for c in url)\n",
        "    features[14] = 1 if parsed_url.scheme != 'https' else 0\n",
        "    features[15] = 1 if re.search(r'\\d{5,}', url) else 0\n",
        "    features[16] = 1 if re.match(r'\\b\\d{1,3}\\.\\d{1,3}\\.\\d{1,3}\\.\\d{1,3}\\b', parsed_url.netloc) else 0 #ip addr instead of domain name\n",
        "    features[17] = url.count(parsed_url.netloc) - 1 #no of subdomains\n",
        "    features[18] = url.count(parsed_url.netloc)\n",
        "    features[19] = 1 if 'https' in parsed_url.netloc else 0\n",
        "    features[20] = len(parsed_url.netloc)\n",
        "    features[21] = len(parsed_url.path)\n",
        "    features[22] = len(parsed_url.query)\n",
        "    features[23] = 1 if '//' in parsed_url.path else 0\n",
        "    features[24] = count_sensitive_words(url)\n",
        "    return features\n",
        "\n",
        "url = \"https://example.com/path/to/example/page?query=example\"\n",
        "features = extract_features_from_url(url)\n",
        "f = np.array(list(features.values()))\n",
        "d = pd.read_csv('/kaggle/input/phishing/Phishing_Legitimate_full.csv')\n",
        "d = d.drop(columns = [\"id\", \"CLASS_LABEL\"])\n",
        "\n",
        "k = 5\n",
        "d_train = d.iloc[:, :25]\n",
        "knn = KNeighborsClassifier(n_neighbors=k)\n",
        "knn.fit(d_train, d.iloc[:, 25])\n",
        "neighbors = knn.kneighbors(f.reshape(1, -1))\n",
        "indices = neighbors[1][0]\n",
        "\n",
        "for i in range(25, 48):\n",
        "    neighbors_features = []\n",
        "    for index in indices:\n",
        "        neighbors_features.append(d.iloc[index, i])\n",
        "    if i in [26, 27, 33]:\n",
        "        features[i] = np.mean(neighbors_features)\n",
        "    else:\n",
        "        features[i] = mode(neighbors_features).mode\n",
        "final_features = np.array(list(features.values()))\n",
        "print(final_features)\n",
        "print(final_features.shape)"
      ],
      "metadata": {
        "execution": {
          "iopub.execute_input": "2024-05-03T09:19:18.807662Z",
          "iopub.status.busy": "2024-05-03T09:19:18.807347Z",
          "iopub.status.idle": "2024-05-03T09:19:18.879567Z",
          "shell.execute_reply": "2024-05-03T09:19:18.878263Z",
          "shell.execute_reply.started": "2024-05-03T09:19:18.807642Z"
        },
        "id": "2WTYktUmypBd",
        "outputId": "c131f3b5-605f-48f7-b2c4-03a4169ce726"
      },
      "execution_count": null,
      "outputs": [
        {
          "name": "stdout",
          "output_type": "stream",
          "text": "[ 1.          0.          4.         54.          0.          0.\n\n  0.          0.          0.          0.          1.          0.\n\n  0.          0.          0.          0.          0.          0.\n\n  1.          0.         11.         21.         13.          0.\n\n  0.          0.          0.31326697  0.47232143  0.          1.\n\n  0.          0.          0.          0.          0.          0.\n\n  0.          0.          0.          0.          0.          0.\n\n  1.          0.          1.          1.         -1.          0.        ]\n\n(48,)\n"
        },
        {
          "name": "stderr",
          "output_type": "stream",
          "text": "/opt/conda/lib/python3.10/site-packages/sklearn/base.py:439: UserWarning: X does not have valid feature names, but KNeighborsClassifier was fitted with feature names\n\n  warnings.warn(\n"
        }
      ]
    }
  ]
}